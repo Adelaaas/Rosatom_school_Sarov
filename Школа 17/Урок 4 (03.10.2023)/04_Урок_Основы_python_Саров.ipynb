{
  "nbformat": 4,
  "nbformat_minor": 0,
  "metadata": {
    "colab": {
      "provenance": []
    },
    "kernelspec": {
      "name": "python3",
      "display_name": "Python 3"
    },
    "language_info": {
      "name": "python"
    }
  },
  "cells": [
    {
      "cell_type": "markdown",
      "metadata": {
        "id": "weTl5RMQKjR2"
      },
      "source": [
        "# Основы языка Python"
      ]
    },
    {
      "cell_type": "markdown",
      "metadata": {
        "id": "FRSOipZYKpq2"
      },
      "source": [
        "## Функции"
      ]
    },
    {
      "cell_type": "markdown",
      "metadata": {
        "id": "2YhyY9PcrXUs"
      },
      "source": [
        "**Функция** - это блок организованного, многократно используемоего кода, который используется для выполнения конкретного задания.  Функции в Python - объект, который принимает аргументы, производит обработку данных, возвращает значение. Функция может принимать произвольное количество аргументов.\n",
        "\n",
        "Они все обладают общим свойством: они могут принимать параметры (ноль, один или несколько), и они могут возвращать значение (хотя могут и не возвращать)."
      ]
    },
    {
      "cell_type": "markdown",
      "metadata": {
        "id": "ygv9bP7GY6lf"
      },
      "source": [
        "### Встроенный функции языка Python"
      ]
    },
    {
      "cell_type": "markdown",
      "metadata": {
        "id": "7Xj1UJbPZCbu"
      },
      "source": [
        "Язык Python включает много уже определенных, то есть встроенных в него, функций."
      ]
    },
    {
      "cell_type": "markdown",
      "metadata": {
        "id": "6qyxenx0aT1c"
      },
      "source": [
        "**int()** - преобразование к целому числу."
      ]
    },
    {
      "cell_type": "code",
      "metadata": {
        "id": "9gfKv5TUabKH"
      },
      "source": [
        "int('3') # преобразование из типа str в тип int"
      ],
      "execution_count": null,
      "outputs": []
    },
    {
      "cell_type": "markdown",
      "metadata": {
        "id": "mioeQ8-KaFiD"
      },
      "source": [
        "**float()** - преобразование к числу с плавающей точкой. Если аргумент не указан, возвращается 0.0."
      ]
    },
    {
      "cell_type": "code",
      "metadata": {
        "id": "xpUWGGwzZ_JA"
      },
      "source": [
        "float('3.5') # преобразование из типа str в тип float"
      ],
      "execution_count": null,
      "outputs": []
    },
    {
      "cell_type": "markdown",
      "metadata": {
        "id": "5nHPtDuBaJ8e"
      },
      "source": [
        "**str()** - строковое представление объекта."
      ]
    },
    {
      "cell_type": "code",
      "metadata": {
        "id": "IAUAqn3van7y"
      },
      "source": [
        "str(123) # преобразование из типа int в тип str"
      ],
      "execution_count": null,
      "outputs": []
    },
    {
      "cell_type": "markdown",
      "metadata": {
        "id": "cE9HrxqMa9k8"
      },
      "source": [
        "**input()** - Возвращает введенную пользователем с консоли строку."
      ]
    },
    {
      "cell_type": "code",
      "metadata": {
        "id": "3pjUZmh1bGGt"
      },
      "source": [
        "x = input() # функция попросит пользователя ввести с клавиатуры и вернет это значение в x (тип возвращаемого значения str)\n",
        "type(x)\n",
        "\n",
        "x = int(input()) # преобразование введенного с клавиатуры числа в тип str"
      ],
      "execution_count": null,
      "outputs": []
    },
    {
      "cell_type": "markdown",
      "metadata": {
        "id": "u4R6xo0KckJ_"
      },
      "source": [
        "**len()** - Возвращает число элементов в указанном объекте."
      ]
    },
    {
      "cell_type": "code",
      "metadata": {
        "id": "WaNIbX8OcoRB",
        "colab": {
          "base_uri": "https://localhost:8080/"
        },
        "outputId": "43e00d3e-598b-47d3-8908-86db07cc7f52"
      },
      "source": [
        "x = [5, 7, 8, 2, 5]\n",
        "len(x) # вернет значение 5 (5 элементов в списке)\n",
        "\n",
        "s = 'Hello'\n",
        "len(s) ## вернет значение 5 (5 букв в слове)"
      ],
      "execution_count": null,
      "outputs": [
        {
          "output_type": "execute_result",
          "data": {
            "text/plain": [
              "5"
            ]
          },
          "metadata": {},
          "execution_count": 2
        }
      ]
    },
    {
      "cell_type": "markdown",
      "metadata": {
        "id": "Binaz_-wcJJ_"
      },
      "source": [
        "**max()** - функция используется для нахождения «максимального» значения в последовательности, итерируемом объекте и так далее. В параметрах можно менять способ вычисления максимального значения.\n",
        "\n",
        "**min()** - функция используется для нахождения «минимального» значения в последовательности, итерируемом объекте и так далее. В параметрах можно менять способ вычисления минимального значения."
      ]
    },
    {
      "cell_type": "code",
      "metadata": {
        "id": "8Ex0jX-8cVjW",
        "colab": {
          "base_uri": "https://localhost:8080/",
          "height": 35
        },
        "outputId": "2d6fb527-7389-4aad-bdb8-d323676e80a0"
      },
      "source": [
        "x = [5, 7, 8, 2, 5]\n",
        "max(x) # вернет значение 8\n",
        "min(x) # вернет значение 2\n",
        "\n",
        "x = [\"Яблоко\", \"Апельсин\", \"Автомобиль\"]\n",
        "max(x, key = len) # считает самое длинное слово (по длинне) - вернет \"Автомобиль\"\n",
        "#max(x) # вернет \"Яблоко\" (сравнение слов будет по лексиграфическому признаку)"
      ],
      "execution_count": null,
      "outputs": [
        {
          "output_type": "execute_result",
          "data": {
            "text/plain": [
              "'Яблоко'"
            ],
            "application/vnd.google.colaboratory.intrinsic+json": {
              "type": "string"
            }
          },
          "metadata": {},
          "execution_count": 4
        }
      ]
    },
    {
      "cell_type": "markdown",
      "metadata": {
        "id": "fileSDyZf4yX"
      },
      "source": [
        "**reversed()** - функция предоставляет простой и быстрый способ развернуть порядок элементов в последовательности. В качестве параметра она принимает валидную последовательность, например список, а возвращает итерируемый объект."
      ]
    },
    {
      "cell_type": "code",
      "metadata": {
        "id": "Hy4SdQ57fxIS",
        "colab": {
          "base_uri": "https://localhost:8080/"
        },
        "outputId": "94819239-a96f-4a54-dba9-e6e715307080"
      },
      "source": [
        "x = [3,4,5]\n",
        "b = reversed(x)\n",
        "list(b)\n",
        "x[::-1]"
      ],
      "execution_count": null,
      "outputs": [
        {
          "output_type": "execute_result",
          "data": {
            "text/plain": [
              "[5, 4, 3]"
            ]
          },
          "metadata": {},
          "execution_count": 8
        }
      ]
    },
    {
      "cell_type": "markdown",
      "metadata": {
        "id": "80_ucrkmgjUB"
      },
      "source": [
        "**set()** - создает множество. Обычно в качестве аргументов функция принимает последовательность, например строка или список, которая затем преобразуется в множество уникальных значений."
      ]
    },
    {
      "cell_type": "code",
      "metadata": {
        "id": "PLQLkcJ6hJps",
        "colab": {
          "base_uri": "https://localhost:8080/"
        },
        "outputId": "e9a655ff-e126-4ed9-8403-1ac92748fd41"
      },
      "source": [
        "set(\"Hello\")\n",
        "# {'e', 'l', 'o', 'H'}\n",
        "\n",
        "set((1,1,1,2,2,3,4,5))\n",
        "# {1, 2, 3, 4, 5}"
      ],
      "execution_count": null,
      "outputs": [
        {
          "output_type": "execute_result",
          "data": {
            "text/plain": [
              "{1, 2, 3, 4, 5}"
            ]
          },
          "metadata": {},
          "execution_count": 9
        }
      ]
    },
    {
      "cell_type": "markdown",
      "metadata": {
        "id": "H40Vw28ogQDB"
      },
      "source": [
        "**range()** - Используется для создания последовательности чисел с заданными значениями от и до, а также интервалом. Такая последовательность часто используется в циклах, особенно в цикле for."
      ]
    },
    {
      "cell_type": "code",
      "metadata": {
        "id": "yeSQteH3gayV",
        "colab": {
          "base_uri": "https://localhost:8080/"
        },
        "outputId": "5c0e5077-2326-494b-81f0-fc98a1ea63fa"
      },
      "source": [
        "# range(start, stop, step)\n",
        "print(list(range(10,20,2)))\n",
        "# вернет список [10, 12, 14, 16, 18]\n",
        "range(10,20,2)"
      ],
      "execution_count": null,
      "outputs": [
        {
          "output_type": "stream",
          "name": "stdout",
          "text": [
            "[10, 12, 14, 16, 18]\n"
          ]
        },
        {
          "output_type": "execute_result",
          "data": {
            "text/plain": [
              "range(10, 20, 2)"
            ]
          },
          "metadata": {},
          "execution_count": 11
        }
      ]
    },
    {
      "cell_type": "markdown",
      "metadata": {
        "id": "wsz8Tm4bhZeA"
      },
      "source": [
        "**enumerate()** - В качестве параметра эта функция принимает последовательность. После этого она перебирает каждый элемент и возвращает его вместе со счетчиком в виде перечисляемого объекта. Основная особенность таких объектов — возможность размещать их в цикле для перебора.\n",
        "\n",
        "Если range() позволяет получить только индексы элементов списка, то enumerate() – сразу индекс элемента и его значение.\n"
      ]
    },
    {
      "cell_type": "code",
      "metadata": {
        "id": "j8yNAwpIhkR4",
        "colab": {
          "base_uri": "https://localhost:8080/"
        },
        "outputId": "85c7f93e-a376-4acd-841d-3b766441dd26"
      },
      "source": [
        "x = \"Строка\"\n",
        "print(list(enumerate(x)))\n",
        "# [(0, 'С'), (1, 'т'), (2, 'р'), (3, 'о'), (4, 'к'), (5, 'а')]"
      ],
      "execution_count": null,
      "outputs": [
        {
          "output_type": "stream",
          "name": "stdout",
          "text": [
            "[(0, 'С'), (1, 'т'), (2, 'р'), (3, 'о'), (4, 'к'), (5, 'а')]\n"
          ]
        }
      ]
    },
    {
      "cell_type": "markdown",
      "metadata": {
        "id": "YUEn4J-GZDjK"
      },
      "source": [
        "###Определение собственных функций"
      ]
    },
    {
      "cell_type": "markdown",
      "metadata": {
        "id": "8C7LFa2hNCdx"
      },
      "source": [
        "Также в Python можно определить свою функцию.\n",
        "Функция определяется с помощью инструкции **def**.\n",
        "\n",
        "Существуют некоторые правила для создания функций в Python.\n",
        "\n",
        "- Блок функции начинается с ключевого слова def, после которого следуют название функции и круглые скобки ().\n",
        "- Любые аргументы, которые принимает функция должны находиться внутри этих скобок.\n",
        "- После скобок идет двоеточие ( : ) и с новой строки с отступом начинается тело функции.\n",
        "\n",
        "Выражение **return** прекращает выполнение функции и возвращает указанное после выражения значение. Выражение return без аргументов это то же самое, что и выражение return None.\n",
        "```\n",
        "def <Название функции>(параметр1, параметр2, ...):\n",
        "    --код--\n",
        "    return параметр1 + параметр2\n",
        "```\n",
        "\n",
        "Например, определим простейщую функцию, которая принимает в качестве аргументов два числа и возвращает их сумму."
      ]
    },
    {
      "cell_type": "markdown",
      "metadata": {
        "id": "hVw9OXgkV8RD"
      },
      "source": [
        "- аргумент (фактический параметр): фактическая переменная передается в функцию;\n",
        "- параметр (формальный параметр): принимающая переменная, которая используется в функции."
      ]
    },
    {
      "cell_type": "code",
      "metadata": {
        "id": "Kts9fiLsNk1o"
      },
      "source": [
        "# x, y - это параметры функции\n",
        "# функция возвращает значение переменной s\n",
        "def summa(x, y):\n",
        "    s = x + y\n",
        "    return s, x, y"
      ],
      "execution_count": null,
      "outputs": []
    },
    {
      "cell_type": "code",
      "metadata": {
        "id": "lWHqFwbcOjCp"
      },
      "source": [
        "# x, y - это параметры функции\n",
        "# данная функция ничего не возвращает, но выводит на экран сумму двух чисед\n",
        "def summa(x, y):\n",
        "    s = x + y\n",
        "    print(s)"
      ],
      "execution_count": null,
      "outputs": []
    },
    {
      "cell_type": "markdown",
      "metadata": {
        "id": "59rbbtB_PsJk"
      },
      "source": [
        "После создания функции, ее можно исполнять вызывая из другой функции или напрямую из оболочки Python. Для вызова функции следует ввести ее имя и добавить скобки."
      ]
    },
    {
      "cell_type": "code",
      "metadata": {
        "id": "JvgSUuSkNyAJ",
        "colab": {
          "base_uri": "https://localhost:8080/"
        },
        "outputId": "dbbad9d5-c131-4107-8f4f-29877bfaa68a"
      },
      "source": [
        "# Для того, чтобы использовать функцию ее необходимо вызвать и передать ей необходимые аргументы\n",
        "r, x, y = summa(4,5) # функция вернет сумму двух чисел 4 и 5 (4, 5 - это аргументы функции)\n",
        "print(r, x, y)\n",
        "a = 1\n",
        "b = 3\n",
        "summa(a,b) # функция вернет сумму двух чисел a и b (a, b - это аргументы функции)"
      ],
      "execution_count": null,
      "outputs": [
        {
          "output_type": "stream",
          "name": "stdout",
          "text": [
            "9 4 5\n"
          ]
        },
        {
          "output_type": "execute_result",
          "data": {
            "text/plain": [
              "(4, 1, 3)"
            ]
          },
          "metadata": {},
          "execution_count": 18
        }
      ]
    },
    {
      "cell_type": "markdown",
      "metadata": {
        "id": "S79p5n4KXIpL"
      },
      "source": [
        "Также функции могут принимать любые типы аргументов как числове, так и строковые, списки, словари и так далее."
      ]
    },
    {
      "cell_type": "code",
      "metadata": {
        "id": "QKROqtfqXQCk",
        "colab": {
          "base_uri": "https://localhost:8080/"
        },
        "outputId": "6108839a-a097-4296-de6d-843d3276f1c0"
      },
      "source": [
        "# функция, которая в качестве парамента принимает список\n",
        "# и возвращает сумму его элементов\n",
        "def summa_spiska(lst):\n",
        "    s = 0\n",
        "    for i in lst:\n",
        "        s += i\n",
        "    return s\n",
        "\n",
        "spisok = [1,2,3,4,5]\n",
        "summa_spiska(spisok)\n",
        "\n",
        "summa_spiska([1,9,10])"
      ],
      "execution_count": null,
      "outputs": [
        {
          "output_type": "execute_result",
          "data": {
            "text/plain": [
              "20"
            ]
          },
          "metadata": {},
          "execution_count": 19
        }
      ]
    },
    {
      "cell_type": "markdown",
      "source": [
        "### Лямбда-функции"
      ],
      "metadata": {
        "id": "gvmdbY-0gN7Y"
      }
    },
    {
      "cell_type": "markdown",
      "source": [
        "В языке Python могут быть определены анонимные функции, которые чаще называют \"лямбда\" функциями. По существу - лямбда-функция - это объект, с которым также можно работать."
      ],
      "metadata": {
        "id": "_135NXnSgP2v"
      }
    },
    {
      "cell_type": "code",
      "source": [
        "plus1 = lambda x: x+1\n",
        "print(plus1 (1))"
      ],
      "metadata": {
        "colab": {
          "base_uri": "https://localhost:8080/"
        },
        "id": "zYDdiSR9guPR",
        "outputId": "01001c32-cd12-4fd1-fef0-dee246b8eaed"
      },
      "execution_count": null,
      "outputs": [
        {
          "output_type": "stream",
          "name": "stdout",
          "text": [
            "2\n"
          ]
        }
      ]
    },
    {
      "cell_type": "markdown",
      "source": [
        "Существуют простые ограничения на работу лямбда функции: вы можете передать сколько угодно входных переменных, но на выходе получите результат только одного выражения, которое с ними работает. \\\\\n",
        "Основное, для чего используются лямбда-функции, это размещение функций там, где они непосредственно нужны, в качестве аргументов высшестоящих функций."
      ],
      "metadata": {
        "id": "thdUova6g9RR"
      }
    },
    {
      "cell_type": "code",
      "source": [
        "spisok = [1, 2, 3, 4, 5, 6, 7]\n",
        "new_spisok = list(filter(lambda x: (x%2 == 0) , spisok))\n",
        "print(new_spisok)"
      ],
      "metadata": {
        "colab": {
          "base_uri": "https://localhost:8080/"
        },
        "id": "lpNzlzffh5Tz",
        "outputId": "d74ae08c-521e-46ce-9eef-e3969025bea1"
      },
      "execution_count": null,
      "outputs": [
        {
          "output_type": "stream",
          "name": "stdout",
          "text": [
            "[2, 4, 6]\n"
          ]
        }
      ]
    },
    {
      "cell_type": "code",
      "source": [
        "spisok = [1, 2, 3, 4, 5, 6, 7]\n",
        "new_spisok = list(map(lambda x: x*2 , spisok))\n",
        "print(new_spisok)"
      ],
      "metadata": {
        "colab": {
          "base_uri": "https://localhost:8080/"
        },
        "id": "HB8XKfLmiMy1",
        "outputId": "1d911581-e124-4dc7-e3b8-acddc42a9c48"
      },
      "execution_count": null,
      "outputs": [
        {
          "output_type": "stream",
          "name": "stdout",
          "text": [
            "[2, 4, 6, 8, 10, 12, 14]\n"
          ]
        }
      ]
    },
    {
      "cell_type": "markdown",
      "metadata": {
        "id": "1iXQqU-UNQGG"
      },
      "source": [
        "## Область видимости"
      ]
    },
    {
      "cell_type": "markdown",
      "metadata": {
        "id": "2vgaxa2pQOJ0"
      },
      "source": [
        "Некоторые переменные программы могут быть недоступны некоторым областям данной программы. Все зависит от того, где вы объявили эти переменные.\n",
        "\n",
        "В Python две базовых области видимости переменных:\n",
        "- Глобальные переменные\n",
        "- Локальные переменные\n",
        "\n",
        "Переменные объявленные внутри тела функции имеют локальную область видимости, те что объявлены вне какой-либо функции имеют глобальную область видимости.\n",
        "\n",
        "Это означает, что доступ к локальным переменным имеют только те функции, в которых они были объявлены, в то время как доступ к глобальным переменным можно получить по всей программе в любой функции."
      ]
    },
    {
      "cell_type": "code",
      "metadata": {
        "id": "qFUDLXIOQIPD",
        "colab": {
          "base_uri": "https://localhost:8080/",
          "height": 253
        },
        "outputId": "ebfbb032-7c33-4ba3-a49d-0f52073f493f"
      },
      "source": [
        "z = 100 # z - глобальная переменная и может быть использована в любом месте программы (в том числе внутри функции)\n",
        "\n",
        "def summa(x, y):\n",
        "    p = x + y\n",
        "    return None\n",
        "\n",
        "def summa1(x, y):\n",
        "    s = x + y + z\n",
        "    return s\n",
        "\n",
        "summa(1,2) #вызовем функцию и передадим ей два числа 1 и 2\n",
        "print(p) # тут возникнет ошибка (так как вне функции переменная s не доступна)\n",
        "\n",
        "summa1(1,2) # в данной случае функция вернет сумму трех числе 1 + 2 + 100, так как переменная z доступна в любой части программы\n",
        "            # в том числе внутри функций"
      ],
      "execution_count": null,
      "outputs": [
        {
          "output_type": "error",
          "ename": "NameError",
          "evalue": "ignored",
          "traceback": [
            "\u001b[0;31m---------------------------------------------------------------------------\u001b[0m",
            "\u001b[0;31mNameError\u001b[0m                                 Traceback (most recent call last)",
            "\u001b[0;32m<ipython-input-44-0ca2b4245a11>\u001b[0m in \u001b[0;36m<module>\u001b[0;34m\u001b[0m\n\u001b[1;32m     10\u001b[0m \u001b[0;34m\u001b[0m\u001b[0m\n\u001b[1;32m     11\u001b[0m \u001b[0msumma\u001b[0m\u001b[0;34m(\u001b[0m\u001b[0;36m1\u001b[0m\u001b[0;34m,\u001b[0m\u001b[0;36m2\u001b[0m\u001b[0;34m)\u001b[0m \u001b[0;31m#вызовем функцию и передадим ей два числа 1 и 2\u001b[0m\u001b[0;34m\u001b[0m\u001b[0;34m\u001b[0m\u001b[0m\n\u001b[0;32m---> 12\u001b[0;31m \u001b[0mprint\u001b[0m\u001b[0;34m(\u001b[0m\u001b[0mp\u001b[0m\u001b[0;34m)\u001b[0m \u001b[0;31m# тут возникнет ошибка (так как вне функции переменная s не доступна)\u001b[0m\u001b[0;34m\u001b[0m\u001b[0;34m\u001b[0m\u001b[0m\n\u001b[0m\u001b[1;32m     13\u001b[0m \u001b[0;34m\u001b[0m\u001b[0m\n\u001b[1;32m     14\u001b[0m \u001b[0msumma1\u001b[0m\u001b[0;34m(\u001b[0m\u001b[0;36m1\u001b[0m\u001b[0;34m,\u001b[0m\u001b[0;36m2\u001b[0m\u001b[0;34m)\u001b[0m \u001b[0;31m# в данной случае функция вернет сумму трех числе 1 + 2 + 100, так как переменная z доступна в любой части программы\u001b[0m\u001b[0;34m\u001b[0m\u001b[0;34m\u001b[0m\u001b[0m\n",
            "\u001b[0;31mNameError\u001b[0m: name 'p' is not defined"
          ]
        }
      ]
    },
    {
      "cell_type": "markdown",
      "metadata": {
        "id": "PvEBQds_R2Em"
      },
      "source": [
        "Важно помнить, что для того чтобы получить доступ к глобальной переменной, достаточно лишь указать ее имя. Однако, если перед нами стоит задача изменить глобальную переменную внутри функции - необходимо использовать ключевое слово **global**."
      ]
    },
    {
      "cell_type": "code",
      "metadata": {
        "id": "YHgY4TOGR367"
      },
      "source": [
        "z = 0\n",
        "\n",
        "def summa(x, y):\n",
        "    z = x + y\n",
        "    return None\n",
        "\n",
        "def summa1(x, y):\n",
        "    global z\n",
        "    z = x + y\n",
        "    return None\n",
        "\n",
        "summa(1,2) # при вызове данной функции значение глобальной переменной z не измениться\n",
        "summa1(1,2) # при вызове данной функции значение глобальной переменной z  измениться"
      ],
      "execution_count": null,
      "outputs": []
    },
    {
      "cell_type": "markdown",
      "source": [
        "## Оператор * и **"
      ],
      "metadata": {
        "id": "etwWBtOMQ-xr"
      }
    },
    {
      "cell_type": "markdown",
      "source": [
        "В Python, так же как и в С/С++ существует оператор *. Но делает он вовсе не то, что от него принято ожидать программистам на C/C++. В первую очередь он служит для распаковки аргументов."
      ],
      "metadata": {
        "id": "Un4LQRHwRDQe"
      }
    },
    {
      "cell_type": "code",
      "source": [
        "numbers = [1, 2, 3, 4, 5]\n",
        "more_numbers = [*numbers, 6, 7]\n",
        "print(*more_numbers, sep=', ')"
      ],
      "metadata": {
        "colab": {
          "base_uri": "https://localhost:8080/"
        },
        "id": "qccTlsmxROov",
        "outputId": "ac0cdee7-0c1e-4ce0-c5b0-533a193273a6"
      },
      "execution_count": null,
      "outputs": [
        {
          "output_type": "stream",
          "name": "stdout",
          "text": [
            "1, 2, 3, 4, 5, 6, 7\n"
          ]
        }
      ]
    },
    {
      "cell_type": "code",
      "source": [
        "num = [numbers, 6, 7]\n",
        "print(*num, sep=', ')"
      ],
      "metadata": {
        "colab": {
          "base_uri": "https://localhost:8080/"
        },
        "id": "08y6jBgEDgFz",
        "outputId": "0910211e-ba9e-45bd-d68f-3a5aa05a48f9"
      },
      "execution_count": null,
      "outputs": [
        {
          "output_type": "stream",
          "name": "stdout",
          "text": [
            "[1, 2, 3, 4, 5], 6, 7\n"
          ]
        }
      ]
    },
    {
      "cell_type": "code",
      "source": [
        "names = ['Petr', 'Yaroslav', 'Dmitriy', 'Sergey']\n",
        "print(names[0], names[1], names[2], names[3])\n",
        "\n",
        "print(*names)"
      ],
      "metadata": {
        "colab": {
          "base_uri": "https://localhost:8080/"
        },
        "id": "rFW8qpAmROrv",
        "outputId": "d823a0ec-9ee4-4f0f-f449-fcf141fff224"
      },
      "execution_count": null,
      "outputs": [
        {
          "output_type": "stream",
          "name": "stdout",
          "text": [
            "Petr Yaroslav Dmitriy Sergey\n",
            "Petr Yaroslav Dmitriy Sergey\n"
          ]
        }
      ]
    },
    {
      "cell_type": "markdown",
      "source": [
        "Оператр ** можно использовать для распаковки аргументов словаря. Обратите внимание, что в этом случае требуется указание конкретных ключей для словаря."
      ],
      "metadata": {
        "id": "m0ZhOEgqf6va"
      }
    },
    {
      "cell_type": "code",
      "source": [
        "date_info = {'year': \"2020\", 'month': \"01\", 'day': \"01\"}\n",
        "filename = \"{year}-{month}-{day}.txt\".format(**date_info)\n",
        "print(filename)"
      ],
      "metadata": {
        "colab": {
          "base_uri": "https://localhost:8080/"
        },
        "id": "Zn5kXApPT7vP",
        "outputId": "1bc4f81c-6dc9-426b-de4d-386223ccdb5b"
      },
      "execution_count": null,
      "outputs": [
        {
          "output_type": "stream",
          "name": "stdout",
          "text": [
            "2020-01-01.txt\n"
          ]
        }
      ]
    }
  ]
}