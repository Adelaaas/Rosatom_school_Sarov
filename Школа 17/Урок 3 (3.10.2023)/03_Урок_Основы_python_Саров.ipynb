{
  "nbformat": 4,
  "nbformat_minor": 0,
  "metadata": {
    "colab": {
      "provenance": []
    },
    "kernelspec": {
      "name": "python3",
      "display_name": "Python 3"
    },
    "language_info": {
      "name": "python"
    }
  },
  "cells": [
    {
      "cell_type": "markdown",
      "metadata": {
        "id": "weTl5RMQKjR2"
      },
      "source": [
        "# Основы языка Python"
      ]
    },
    {
      "cell_type": "markdown",
      "source": [
        "## Условия\n",
        "\n",
        "Использование условий в языке python похоже на любой другой язык.\n",
        "\n",
        "```\n",
        "if (условие):\n",
        "____код\n",
        "elif (условие):\n",
        "____код\n",
        "else:\n",
        "____кода\n",
        "```\n",
        "Или\n",
        "```\n",
        "if (условие):\n",
        "____код\n",
        "else:\n",
        "____кода\n",
        "```\n",
        "Или\n",
        "```\n",
        "if (условие):\n",
        "____код\n",
        "```\n",
        "\n",
        "Обратите внимание, на необходимость использования отступов для корректной интерпретации кода.\n",
        "\n",
        "**В отличии от других языков, отступы в Python необходимы для корректного исполнения кода.**"
      ],
      "metadata": {
        "id": "RDKHQxi1z4xo"
      }
    },
    {
      "cell_type": "code",
      "source": [
        "x = input() # всегда возвращает тип str"
      ],
      "metadata": {
        "colab": {
          "base_uri": "https://localhost:8080/"
        },
        "id": "YkKgtiMWL-Wr",
        "outputId": "4a490b9c-7f99-4ae3-8428-348feb2dcd1e"
      },
      "execution_count": null,
      "outputs": [
        {
          "name": "stdout",
          "output_type": "stream",
          "text": [
            "5\n"
          ]
        }
      ]
    },
    {
      "cell_type": "code",
      "source": [
        "x = int(x)"
      ],
      "metadata": {
        "colab": {
          "base_uri": "https://localhost:8080/"
        },
        "id": "FYMm1F4TMA8m",
        "outputId": "84bb6e1c-d93a-4ec6-8a29-787fddeeb086"
      },
      "execution_count": null,
      "outputs": [
        {
          "output_type": "execute_result",
          "data": {
            "text/plain": [
              "str"
            ]
          },
          "metadata": {},
          "execution_count": 2
        }
      ]
    },
    {
      "cell_type": "code",
      "source": [
        "x = int(input())\n",
        "\n",
        "if x > 0:\n",
        "    print('Положительная зона')\n",
        "    print(x)\n",
        "else:\n",
        "    print('Неположительная зона')\n",
        "    print(-x)"
      ],
      "metadata": {
        "id": "3SYzjVfy09Mz",
        "colab": {
          "base_uri": "https://localhost:8080/"
        },
        "outputId": "2ec35583-d077-4c0b-df27-2c6e18c4f606"
      },
      "execution_count": null,
      "outputs": [
        {
          "output_type": "stream",
          "name": "stdout",
          "text": [
            "-6\n",
            "Неположительная зона\n",
            "6\n"
          ]
        }
      ]
    },
    {
      "cell_type": "code",
      "source": [
        "if -10 < x < 10:\n",
        "    print('Да, это число принадлежит диапазону (-10,10)')"
      ],
      "metadata": {
        "id": "iFG9Hr0pM_bD"
      },
      "execution_count": null,
      "outputs": []
    },
    {
      "cell_type": "markdown",
      "source": [
        "Для формирования сложных условий можно использовать логические операции и различные операторы сравнения.\n",
        "\n",
        "Операторы сравнения:  \n",
        "`<` Меньше — условие верно, если первый операнд меньше второго.  \n",
        "`>` Больше — условие верно, если первый операнд больше второго.  \n",
        "`<=` Меньше или равно.  \n",
        "`>=` Больше или равно.\n",
        "\n",
        "`==` Равенство. Условие верно, если два операнда равны.  \n",
        "`!=` Неравенство. Условие верно, если два операнда неравны.  \n",
        "`a <= x <= b` - x находится в интервале от a до b.\n",
        "\n",
        "Логические операции:  \n",
        "`and` - логическое \"И\"  \n",
        "`or` - логическое \"Или\"  \n",
        "`not` - логическое \"Отрицание\""
      ],
      "metadata": {
        "id": "U05Ez20d0_fO"
      }
    },
    {
      "cell_type": "code",
      "source": [
        "a = int(input())\n",
        "b = int(input())\n",
        "x = int(input())\n",
        "\n",
        "a = -10\n",
        "b = 10\n",
        "x = 0\n",
        "if a <= x <= b and x > 0:\n",
        "    # True and False = False\n",
        "    print('YES')\n",
        "else:\n",
        "    print('No')\n",
        "\n",
        "print('NO')"
      ],
      "metadata": {
        "id": "Vp0IORy-0_vX"
      },
      "execution_count": null,
      "outputs": []
    },
    {
      "cell_type": "code",
      "source": [
        "lst = [1,5,2,7,0,-10]\n",
        "\n",
        "x = 5"
      ],
      "metadata": {
        "id": "GuuF36CAOY1g"
      },
      "execution_count": null,
      "outputs": []
    },
    {
      "cell_type": "markdown",
      "source": [
        "Для проверки наличия элементов в спиcке используется операция\n",
        "\n",
        "```\n",
        "in\n",
        "```\n"
      ],
      "metadata": {
        "id": "2z0j8VRE1Bs8"
      }
    },
    {
      "cell_type": "code",
      "source": [
        "A = [1, 2, 3, 4, 5, 6, 7, 8]\n",
        "b = int(input())\n",
        "\n",
        "if b in A:\n",
        "  print('yes')\n",
        "else:\n",
        "  print('no')"
      ],
      "metadata": {
        "id": "pCZOHEZF1DQr",
        "colab": {
          "base_uri": "https://localhost:8080/"
        },
        "outputId": "5ea89153-9b2e-42d7-ae7d-5dced606f37b"
      },
      "execution_count": null,
      "outputs": [
        {
          "output_type": "stream",
          "name": "stdout",
          "text": [
            "4\n",
            "yes\n"
          ]
        }
      ]
    },
    {
      "cell_type": "markdown",
      "source": [
        "### Задача \"Високосный год\""
      ],
      "metadata": {
        "id": "KLFmrbno-mLu"
      }
    },
    {
      "cell_type": "markdown",
      "source": [
        "Дано натуральное число. Требуется определить, является ли год с данным номером високосным. Если год является високосным, то выведите YES, иначе выведите NO. Напомним, что в соответствии с григорианским календарем, год является високосным, если его номер кратен 4, но не кратен 100, а также если он кратен 400."
      ],
      "metadata": {
        "id": "kLBPNjyD-p_Q"
      }
    },
    {
      "cell_type": "code",
      "source": [
        "# ваше решение"
      ],
      "metadata": {
        "id": "t1GtrRMM-qY-"
      },
      "execution_count": null,
      "outputs": []
    },
    {
      "cell_type": "markdown",
      "source": [
        "##Циклы for и while"
      ],
      "metadata": {
        "id": "Qm-uhwN_z5i2"
      }
    },
    {
      "cell_type": "markdown",
      "source": [
        "Циклы python — for и while представляют собой операторы языка программирования, то есть операторы итерации, которые позволяют повторять код определенное количество раз."
      ],
      "metadata": {
        "id": "AtE37wHl0FP8"
      }
    },
    {
      "cell_type": "markdown",
      "source": [
        "###Синтаксис цикла `For`"
      ],
      "metadata": {
        "id": "fiNVuJ4a0L0i"
      }
    },
    {
      "cell_type": "markdown",
      "source": [
        "Как уже упоминалось ранее, цикл for в Python является итератором, основанным на цикле. Он проходит по элементам list и tuple, строкам, ключам словаря и другим итерируемым объектам.\n",
        "\n",
        "В Python цикл начинается с ключевого слова for, за которым следует произвольное имя переменной, которое будет хранить значения следующего объекта последовательности. Общий синтаксис for...in в python выглядит следующим образом:\n",
        "\n",
        "```\n",
        "for <переменная> in <последовательность>:\n",
        "    <действие>\n",
        "else:\n",
        "    <действие>\n",
        "```\n",
        "\n",
        "Элементы «последовательности» перебираются один за другим «переменной» цикла; если быть точным, переменная указывает на элементы. Для каждого элемента выполняется «действие»."
      ],
      "metadata": {
        "id": "AfMSd2so0QOD"
      }
    },
    {
      "cell_type": "code",
      "source": [
        "lst = [10,5,3,7,8]\n",
        "0,1,2,3,4"
      ],
      "metadata": {
        "id": "lw30K_LhIuUy"
      },
      "execution_count": null,
      "outputs": []
    },
    {
      "cell_type": "code",
      "source": [
        "week = ['пн', 'вт', 'ср', 'чт', 'пт', 'сб']\n",
        "\n",
        "for i in week:\n",
        "    # i - значение week\n",
        "    print(f'Идти в школу в {i}')"
      ],
      "metadata": {
        "colab": {
          "base_uri": "https://localhost:8080/"
        },
        "id": "gvVGVqnyPdvE",
        "outputId": "fe3fe54f-87c8-4ad0-956c-7fa782bfdf5b"
      },
      "execution_count": null,
      "outputs": [
        {
          "output_type": "stream",
          "name": "stdout",
          "text": [
            "Идти в школу в пн\n",
            "Идти в школу в вт\n",
            "Идти в школу в ср\n",
            "Идти в школу в чт\n",
            "Идти в школу в пт\n",
            "Идти в школу в сб\n"
          ]
        }
      ]
    },
    {
      "cell_type": "code",
      "source": [
        "len(week)"
      ],
      "metadata": {
        "colab": {
          "base_uri": "https://localhost:8080/"
        },
        "id": "McBNIHwqJ0wa",
        "outputId": "598e81a4-1e27-44db-cf55-03b2c77c9940"
      },
      "execution_count": null,
      "outputs": [
        {
          "output_type": "execute_result",
          "data": {
            "text/plain": [
              "6"
            ]
          },
          "metadata": {},
          "execution_count": 3
        }
      ]
    },
    {
      "cell_type": "code",
      "source": [
        "range(len(week)) # range(6): от до 6-1 с шагом 1\n",
        "# 0 1 2 3 4 5"
      ],
      "metadata": {
        "id": "AXhb-JK2JyDa"
      },
      "execution_count": null,
      "outputs": []
    },
    {
      "cell_type": "code",
      "source": [
        "# range(start, stop-1, step) - генерирует список\n",
        "# start = 0 - по дефолту\n",
        "# step = 1 - по дефолту\n",
        "# list(range(start,stop,step))\n",
        "list(range(0,5,1))"
      ],
      "metadata": {
        "colab": {
          "base_uri": "https://localhost:8080/"
        },
        "id": "5yioLaCdQOZF",
        "outputId": "4ad8a6fa-1f00-4364-c852-2ecf3b9a6821"
      },
      "execution_count": null,
      "outputs": [
        {
          "output_type": "execute_result",
          "data": {
            "text/plain": [
              "[0, 1, 2, 3, 4]"
            ]
          },
          "metadata": {},
          "execution_count": 2
        }
      ]
    },
    {
      "cell_type": "code",
      "source": [
        "for i in range(len(week)):\n",
        "    # i - индексы week\n",
        "    print(f'Идти в школу в {week[i]}')"
      ],
      "metadata": {
        "colab": {
          "base_uri": "https://localhost:8080/"
        },
        "id": "3FR7naMxKHvj",
        "outputId": "6198c6b3-59eb-4fe8-c2ee-133fb95baf1a"
      },
      "execution_count": null,
      "outputs": [
        {
          "output_type": "stream",
          "name": "stdout",
          "text": [
            "Идти в школу в пн\n",
            "Идти в школу в вт\n",
            "Идти в школу в ср\n",
            "Идти в школу в чт\n",
            "Идти в школу в пт\n",
            "Идти в школу в сб\n"
          ]
        }
      ]
    },
    {
      "cell_type": "code",
      "source": [
        "lst = [1,3,6,1,9]\n",
        "len(lst)\n",
        "\n",
        "lst[0] += 1\n",
        "lst[1] += 1\n",
        "...."
      ],
      "metadata": {
        "colab": {
          "base_uri": "https://localhost:8080/"
        },
        "id": "Hr2aZo0XQh03",
        "outputId": "4214a77b-82cc-4eba-8072-56151e96e6da"
      },
      "execution_count": null,
      "outputs": [
        {
          "output_type": "execute_result",
          "data": {
            "text/plain": [
              "5"
            ]
          },
          "metadata": {},
          "execution_count": 13
        }
      ]
    },
    {
      "cell_type": "code",
      "source": [
        "list(range(len(lst)))"
      ],
      "metadata": {
        "colab": {
          "base_uri": "https://localhost:8080/"
        },
        "id": "zDEeTmwbQ10M",
        "outputId": "1ee1cc9a-795f-4ece-bb47-5772f6db1e0a"
      },
      "execution_count": null,
      "outputs": [
        {
          "output_type": "execute_result",
          "data": {
            "text/plain": [
              "[0, 1, 2, 3, 4]"
            ]
          },
          "metadata": {},
          "execution_count": 15
        }
      ]
    },
    {
      "cell_type": "code",
      "source": [
        "lst = [1,3,6,1,9]\n",
        "\n",
        "# к каждому элементу списка необходимо добавить число 1\n",
        "for i in lst:\n",
        "    # в переменной i лежит значение элемента списка\n",
        "    i += 1\n",
        "\n",
        "print(lst)\n",
        "\n",
        "for i in range(len(lst)):\n",
        "    # в данном случае в переменной i лежат индексы элементов списка\n",
        "    lst[i] += 1\n",
        "\n",
        "print(lst)"
      ],
      "metadata": {
        "id": "rX0OLGMT0SsA",
        "colab": {
          "base_uri": "https://localhost:8080/"
        },
        "outputId": "b309a8aa-db14-431f-e44b-a0647d65e144"
      },
      "execution_count": null,
      "outputs": [
        {
          "output_type": "stream",
          "name": "stdout",
          "text": [
            "[1, 3, 6, 1, 9]\n",
            "[2, 4, 7, 2, 10]\n"
          ]
        }
      ]
    },
    {
      "cell_type": "code",
      "source": [
        "list(enumerate(lst))\n",
        "# [2, 4, 7, 2, 10]"
      ],
      "metadata": {
        "colab": {
          "base_uri": "https://localhost:8080/"
        },
        "id": "JAcLpw4DLchy",
        "outputId": "0376fce9-d734-43da-acb8-6c7947fe4a64"
      },
      "execution_count": null,
      "outputs": [
        {
          "output_type": "execute_result",
          "data": {
            "text/plain": [
              "[(0, 2), (1, 4), (2, 7), (3, 2), (4, 10)]"
            ]
          },
          "metadata": {},
          "execution_count": 9
        }
      ]
    },
    {
      "cell_type": "code",
      "source": [
        "for index, value in enumerate(lst):\n",
        "    # в данном случае в переменной index лежат индексы элементов списка\n",
        "    # в переменной value значение элемента списка\n",
        "    print(f'This is index: {index}, this is value: {value}')"
      ],
      "metadata": {
        "colab": {
          "base_uri": "https://localhost:8080/"
        },
        "id": "oOIIJklVKrS2",
        "outputId": "78265a9b-75b1-4623-e62d-c0edad9a4dde"
      },
      "execution_count": null,
      "outputs": [
        {
          "output_type": "stream",
          "name": "stdout",
          "text": [
            "This is index: 0, this is value: 2\n",
            "This is index: 1, this is value: 4\n",
            "This is index: 2, this is value: 7\n",
            "This is index: 3, this is value: 2\n",
            "This is index: 4, this is value: 10\n"
          ]
        }
      ]
    },
    {
      "cell_type": "code",
      "source": [
        "list(enumerate(lst))"
      ],
      "metadata": {
        "colab": {
          "base_uri": "https://localhost:8080/"
        },
        "id": "cPIKYTjORC7r",
        "outputId": "1e02862e-d81e-44f0-9f8c-c564d1ebbcea"
      },
      "execution_count": null,
      "outputs": [
        {
          "output_type": "execute_result",
          "data": {
            "text/plain": [
              "[(0, 1), (1, 3), (2, 6), (3, 1), (4, 9)]"
            ]
          },
          "metadata": {},
          "execution_count": 17
        }
      ]
    },
    {
      "cell_type": "code",
      "source": [
        "lst = [1,3,6,1,9]\n",
        "# к каждому элементу списка необходимо добавить число 1\n",
        "for i in lst:\n",
        "    # в переменной i лежит значение элемента списка\n",
        "    i += 1\n",
        "\n",
        "lst"
      ],
      "metadata": {
        "id": "ghZxjpZK0UmA"
      },
      "execution_count": null,
      "outputs": []
    },
    {
      "cell_type": "markdown",
      "source": [
        "Блок else является особенным.\n",
        "\n",
        "Он будет выполнен только в том случае, если цикл не был «остановлен» оператором break. Таким образом, он будет выполнен только после того, как все элементы последовательности будут пройдены.\n",
        "\n",
        "Если в программе цикл for должен быть прерван оператором break, цикл будет завершен, и поток программы будет продолжен без выполнения действий из else.\n",
        "\n",
        "Обычно фразы **break** в Python связаны с условными операторами."
      ],
      "metadata": {
        "id": "iQosHqFi0W1u"
      }
    },
    {
      "cell_type": "code",
      "source": [
        "names = [\"Петр\", \"Иван\", \"Максим\", \"Мария\"]\n",
        "\n",
        "# Цикл по очередно перебирает имена в списке\n",
        "# Как только мы нашли имя Максим, цикл необходимо преравать и не просматривать следующие элементы\n",
        "for name in names:\n",
        "    if name == \"Максим\":\n",
        "        print(\"Меня зовут Максим!\")\n",
        "        break\n",
        "    print(\"Другие имена\", name)\n",
        "else:\n",
        "    print(\"Спасибо, теперь я знаю все имена\")"
      ],
      "metadata": {
        "id": "_ElNLkRb0acM",
        "colab": {
          "base_uri": "https://localhost:8080/"
        },
        "outputId": "7d4eb3b3-90e6-4b91-9099-057e628af2ec"
      },
      "execution_count": null,
      "outputs": [
        {
          "output_type": "stream",
          "name": "stdout",
          "text": [
            "Другие имена Петр\n",
            "Другие имена Иван\n",
            "Меня зовут Максим!\n"
          ]
        }
      ]
    },
    {
      "cell_type": "markdown",
      "source": [
        "Оператор пропуска Python — **continue**\n",
        "\n",
        "Предположим, имя \"Максим\" нам нужно просто пропустить и продолжить дальше перебор имен. Тогда нужно использовать оператор continue, для перехода к следующему элементу.\n",
        "\n",
        "В следующем маленьком скрипте python мы используем continue, чтобы продолжить, итерацию по списку, когда мы сталкиваемся с нужным именем."
      ],
      "metadata": {
        "id": "OSUIL5Ti0eSE"
      }
    },
    {
      "cell_type": "code",
      "source": [
        "names = [\"Петр\", \"Иван\", \"Максим\", \"Мария\"]\n",
        "\n",
        "for name in names:\n",
        "    if name == \"Максим\":\n",
        "        print(\"Меня зовут Максим!\")\n",
        "        continue\n",
        "    print(\"Другие имена\", name)\n",
        "else:\n",
        "    print(\"Спасибо, теперь я знаю все имена\")"
      ],
      "metadata": {
        "id": "0-ST26eb0fGD",
        "colab": {
          "base_uri": "https://localhost:8080/"
        },
        "outputId": "666ed574-013b-485d-a337-001790bfd213"
      },
      "execution_count": null,
      "outputs": [
        {
          "output_type": "stream",
          "name": "stdout",
          "text": [
            "Другие имена Петр\n",
            "Другие имена Иван\n",
            "Меня зовут Максим!\n",
            "Другие имена Мария\n",
            "Спасибо, теперь я знаю все имена\n"
          ]
        }
      ]
    },
    {
      "cell_type": "code",
      "source": [],
      "metadata": {
        "id": "5USGm45PNLQ-"
      },
      "execution_count": null,
      "outputs": []
    },
    {
      "cell_type": "code",
      "source": [
        "for i in range (1, 3):\n",
        "  i = 10\n",
        "  print(i)\n",
        "  i = 11\n",
        "  print(i)\n",
        "  i = 12\n",
        "  print(i)"
      ],
      "metadata": {
        "id": "hART8Qgx0ipK"
      },
      "execution_count": null,
      "outputs": []
    },
    {
      "cell_type": "markdown",
      "source": [
        "#### Задача «Количество нулей»"
      ],
      "metadata": {
        "id": "5CUSGWqi-4IS"
      }
    },
    {
      "cell_type": "markdown",
      "source": [
        "Вам дан список из N элементов (можете создать сами, либо организовать ввод с клавиатуры), необходимо посчитать сколько чисел в данном списке являются 0."
      ],
      "metadata": {
        "id": "jTG0_8iu-6zL"
      }
    },
    {
      "cell_type": "code",
      "source": [
        "# Ваше решение"
      ],
      "metadata": {
        "id": "JcqAmvOW_HYF"
      },
      "execution_count": null,
      "outputs": []
    },
    {
      "cell_type": "markdown",
      "source": [
        "### Синтаксис `while`"
      ],
      "metadata": {
        "id": "V7uoMAnL0m5Q"
      }
    },
    {
      "cell_type": "markdown",
      "source": [
        "\n",
        "```\n",
        "while <условие (булевское выражение)>:\n",
        "    <code>\n",
        "else:\n",
        "    <code>\n",
        "```\n",
        "\n",
        "Здесь код, написанный вместо `code` будет выполняться каждую итерацию цикла, пока условие после `while` будет выполняться.\n",
        "\n",
        "Посмотрим на примере: Напишем цикл, в котором будем выводить переменную x и увеличивать x на 1, пока x не станет больше 10:"
      ],
      "metadata": {
        "id": "4hYhZv9G0njd"
      }
    },
    {
      "cell_type": "code",
      "source": [
        "x = 1\n",
        "\n",
        "while x <= 10:\n",
        "    print(x)\n",
        "    # более удобный способ записи x = x + 1\n",
        "    x += 1"
      ],
      "metadata": {
        "id": "pn8EPTT40qbE",
        "colab": {
          "base_uri": "https://localhost:8080/"
        },
        "outputId": "058e02ab-5ec2-4a19-d99e-51e9131ae3c2"
      },
      "execution_count": null,
      "outputs": [
        {
          "output_type": "stream",
          "name": "stdout",
          "text": [
            "1\n",
            "2\n",
            "3\n",
            "4\n",
            "5\n",
            "6\n",
            "7\n",
            "8\n",
            "9\n",
            "10\n"
          ]
        }
      ]
    },
    {
      "cell_type": "markdown",
      "source": [
        "Цикл while является своего рода условным оператором. Вот что значит этот код: пока переменная i меньше 10, её нужно выводить на экран. Далее, в конце, мы увеличиваем её значение на единицу. Если вы запустите этот код, он выдаст от 1 до 10, каждая цифра будет в отдельной строке, после чего задача будет выполнена. Если вы удалите ту часть, в которой мы увеличиваем значение i, то мы получим бесконечный цикл.\n",
        "\n",
        "В циклах `while` также можно использовать оператор break и continue."
      ],
      "metadata": {
        "id": "XFzbitz20vyP"
      }
    },
    {
      "cell_type": "code",
      "source": [
        "x = 1\n",
        "\n",
        "while x < 10:\n",
        "    print(x)\n",
        "\n",
        "    if x == 5:\n",
        "        break\n",
        "\n",
        "    x += 1"
      ],
      "metadata": {
        "id": "o9elTHmn0wC9",
        "colab": {
          "base_uri": "https://localhost:8080/"
        },
        "outputId": "aaaf3179-5741-441b-bc14-bbd576f43f96"
      },
      "execution_count": null,
      "outputs": [
        {
          "output_type": "stream",
          "name": "stdout",
          "text": [
            "1\n",
            "2\n",
            "3\n",
            "4\n",
            "5\n"
          ]
        }
      ]
    },
    {
      "cell_type": "code",
      "source": [
        "x = 1\n",
        "\n",
        "while x < 10:\n",
        "    if x == 3:\n",
        "        x += 1\n",
        "        continue\n",
        "\n",
        "    print(x)\n",
        "    if x == 5:\n",
        "        break\n",
        "\n",
        "    x += 1"
      ],
      "metadata": {
        "id": "UjVqq_sI0zba",
        "colab": {
          "base_uri": "https://localhost:8080/"
        },
        "outputId": "269a0372-14d4-4f56-8c26-15eb9437d3a7"
      },
      "execution_count": null,
      "outputs": [
        {
          "output_type": "stream",
          "name": "stdout",
          "text": [
            "1\n",
            "2\n",
            "4\n",
            "5\n"
          ]
        }
      ]
    },
    {
      "cell_type": "code",
      "source": [
        "x = 1\n",
        "\n",
        "while x < 10:\n",
        "    x += 1\n",
        "else:\n",
        "    print(f'This is else {x}')"
      ],
      "metadata": {
        "colab": {
          "base_uri": "https://localhost:8080/"
        },
        "id": "rQnozOjEOYKc",
        "outputId": "6f457a0b-2633-4190-803b-26fd8f961eb0"
      },
      "execution_count": null,
      "outputs": [
        {
          "output_type": "stream",
          "name": "stdout",
          "text": [
            "This is else 10\n"
          ]
        }
      ]
    },
    {
      "cell_type": "markdown",
      "source": [
        "#### Задача \"Второй максимум\""
      ],
      "metadata": {
        "id": "C1A9397M_UQe"
      }
    },
    {
      "cell_type": "markdown",
      "source": [
        "Последовательность состоит из различных натуральных чисел и завершается числом 0. Определите значение второго по величине элемента в этой последовательности. Гарантируется, что в последовательности есть хотя бы два элемента."
      ],
      "metadata": {
        "id": "l6oewzhV_XRb"
      }
    },
    {
      "cell_type": "code",
      "source": [
        "# ваше решение"
      ],
      "metadata": {
        "id": "JpLpfJQu_ezM"
      },
      "execution_count": null,
      "outputs": []
    },
    {
      "cell_type": "markdown",
      "source": [
        "## Генераторы списков\n",
        "\n",
        "Генераторы список - удобный способ создания списоков в Python. В его основе хоть и лежат циклы, но для использовани генераторов глубокого понимания циклов не нужно."
      ],
      "metadata": {
        "id": "NXR2w9cQ1Ijs"
      }
    },
    {
      "cell_type": "markdown",
      "source": [
        "Вывести список всех кубов ряда от 0 до 6."
      ],
      "metadata": {
        "id": "CTKHnzKc1KCU"
      }
    },
    {
      "cell_type": "code",
      "source": [
        "example = [0, 1, 2, 3, 4, 5, 6]\n",
        "\n",
        "for i in example:\n",
        "    i = i**3\n",
        "\n",
        "example"
      ],
      "metadata": {
        "colab": {
          "base_uri": "https://localhost:8080/"
        },
        "id": "tAyG-Y-vO0P7",
        "outputId": "8e8b703c-3219-495f-a93c-7b5ea616ec68"
      },
      "execution_count": null,
      "outputs": [
        {
          "output_type": "execute_result",
          "data": {
            "text/plain": [
              "[0, 1, 8, 27, 64, 125, 216]"
            ]
          },
          "metadata": {},
          "execution_count": 20
        }
      ]
    },
    {
      "cell_type": "code",
      "source": [
        "example = [0, 1, 2, 3, 4, 5, 6]\n",
        "\n",
        "example = [i ** 3 for i in example]\n",
        "\n",
        "print(*example, '- кубы')"
      ],
      "metadata": {
        "id": "Kryb7CLj1MAh",
        "colab": {
          "base_uri": "https://localhost:8080/"
        },
        "outputId": "7d4b5c18-acea-4d24-9a62-651830db014c"
      },
      "execution_count": null,
      "outputs": [
        {
          "output_type": "stream",
          "name": "stdout",
          "text": [
            "0 1 8 27 64 125 216 - кубы\n"
          ]
        }
      ]
    },
    {
      "cell_type": "markdown",
      "source": [
        "Вывести список из i элементов равных i в ряду четных цифр от 1 до 7"
      ],
      "metadata": {
        "id": "csvXZyOx1Pvi"
      }
    },
    {
      "cell_type": "code",
      "source": [
        "ex = [1, 2, 3, 4, 5, 6, 7]\n",
        "\n",
        "for i in ex:\n",
        "    if i % 2 == 0:\n",
        "        i**3"
      ],
      "metadata": {
        "id": "9fxqCqe7Pcsq"
      },
      "execution_count": null,
      "outputs": []
    },
    {
      "cell_type": "code",
      "source": [
        "ex = [1, 2, 3, 4, 5, 6, 7]\n",
        "arr = [i**3 for i in ex if i % 2 == 0]\n",
        "print(arr)\n",
        "print(len(arr))"
      ],
      "metadata": {
        "id": "5SlsZYe31O_k"
      },
      "execution_count": null,
      "outputs": []
    },
    {
      "cell_type": "markdown",
      "metadata": {
        "id": "-qcaQystsXYY"
      },
      "source": [
        "**Задача 1.**\n",
        "\n",
        "Напишите цикл, который выводит все числа от 0 до 500, делящиеся на 7, если в них есть цифра 8."
      ]
    },
    {
      "cell_type": "code",
      "metadata": {
        "id": "5-d0zkldsuvr"
      },
      "source": [],
      "execution_count": null,
      "outputs": []
    },
    {
      "cell_type": "markdown",
      "source": [
        "**Задача 2.**"
      ],
      "metadata": {
        "id": "Mb9fuaTHAIvx"
      }
    },
    {
      "cell_type": "markdown",
      "source": [
        "Дана строка, найдите все цифры в этой строке и сохраните в отдельный список."
      ],
      "metadata": {
        "id": "MPT0ejELANhz"
      }
    },
    {
      "cell_type": "code",
      "source": [
        "a = \"lsj94ksd231 9\""
      ],
      "metadata": {
        "id": "iJLXPetjAJwN"
      },
      "execution_count": null,
      "outputs": []
    }
  ]
}