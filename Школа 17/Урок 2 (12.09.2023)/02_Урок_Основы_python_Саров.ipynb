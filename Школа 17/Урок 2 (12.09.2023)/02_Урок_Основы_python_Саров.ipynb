{
  "nbformat": 4,
  "nbformat_minor": 0,
  "metadata": {
    "colab": {
      "provenance": []
    },
    "kernelspec": {
      "name": "python3",
      "display_name": "Python 3"
    },
    "language_info": {
      "name": "python"
    }
  },
  "cells": [
    {
      "cell_type": "markdown",
      "source": [
        "## Типы данных"
      ],
      "metadata": {
        "id": "gK4mxs0RWMbn"
      }
    },
    {
      "cell_type": "markdown",
      "source": [
        "Все типы данных в Python относятся к одной из 2-х категорий: изменяемые (mutable) и неизменяемые (immutable).\n",
        "\n",
        "**Неизменяемые объекты:**\n",
        "- числовые данные (int, float),\n",
        "- bool,\n",
        "- None,\n",
        "- символьные строки (class 'str'),\n",
        "- кортежи (tuple).\n",
        "\n",
        "**Изменяемые объекты:**\n",
        "- списки (list),\n",
        "- множества (set),\n",
        "- словари (dict)."
      ],
      "metadata": {
        "id": "iepctl-HWN3i"
      }
    },
    {
      "cell_type": "markdown",
      "source": [
        "В Python используется утиная типизация. Для работы с переменными не нужно объявлять их тип, а достаточно просто присвоить значение.\n",
        "\n",
        "Принцип утиной типизации звучит следующим образом:\n",
        "\n",
        "```\n",
        "Если это выглядит как утка, плавает как утка и крякает как утка, то это, вероятно, и есть утка.\n",
        "```"
      ],
      "metadata": {
        "id": "siIseoetWQZe"
      }
    },
    {
      "cell_type": "markdown",
      "source": [
        "#### Dict (ассоциативный массив)\n",
        "\n",
        "Словарь используется для хранение пары объектов вида:\n",
        "\n",
        "```\n",
        "<ключи>:<значение>\n",
        "```\n",
        "Это очень удобная форма хранения данных, называемая \"ассоцированный массив\".\n"
      ],
      "metadata": {
        "id": "NcrGFlLbWV2N"
      }
    },
    {
      "cell_type": "code",
      "source": [
        "lst = [1,2,3]\n",
        "lst = list(1,2,3,4)\n",
        "\n",
        "# list []\n",
        "# tuple ()\n",
        "# dict {}"
      ],
      "metadata": {
        "id": "SnRkCmEqAvpZ"
      },
      "execution_count": null,
      "outputs": []
    },
    {
      "cell_type": "code",
      "source": [
        "A[]"
      ],
      "metadata": {
        "id": "vdnM3svxBPnj"
      },
      "execution_count": null,
      "outputs": []
    },
    {
      "cell_type": "code",
      "execution_count": null,
      "metadata": {
        "colab": {
          "base_uri": "https://localhost:8080/"
        },
        "id": "MYoJNCxhWB6r",
        "outputId": "e2fc4d17-1f8d-45f5-e321-393598534e7e"
      },
      "outputs": [
        {
          "output_type": "execute_result",
          "data": {
            "text/plain": [
              "{'Russia': 'Moscow', 'France': 'Paris', 'USA': 'Washington'}"
            ]
          },
          "metadata": {},
          "execution_count": 17
        }
      ],
      "source": [
        "# Создадим пустой словать Capitals\n",
        "Capitals = dict() #Capitals = {}\n",
        "\n",
        "# Заполним его несколькими значениями\n",
        "Capitals['Russia'] = 'Moscow'\n",
        "Capitals['France'] = 'Paris'\n",
        "Capitals['USA'] = 'Washington'\n",
        "\n",
        "Capitals"
      ]
    },
    {
      "cell_type": "code",
      "source": [],
      "metadata": {
        "id": "7iQyjkW6C4Do"
      },
      "execution_count": null,
      "outputs": []
    },
    {
      "cell_type": "code",
      "source": [
        "pupils = {'Name': ['Pete', \"Mary\"],\n",
        "          'Age': [17, 17]}\n",
        "\n",
        "pupils"
      ],
      "metadata": {
        "colab": {
          "base_uri": "https://localhost:8080/"
        },
        "id": "CNFZwhvPBoHo",
        "outputId": "73319951-1552-408a-d7b3-05f37334e4ca"
      },
      "execution_count": null,
      "outputs": [
        {
          "output_type": "execute_result",
          "data": {
            "text/plain": [
              "{'Name': ['Pete', 'Mary'], 'Age': [17, 17]}"
            ]
          },
          "metadata": {},
          "execution_count": 15
        }
      ]
    },
    {
      "cell_type": "code",
      "source": [
        "print(Capitals.keys(), \"- Этот метод возвращает представление клюей в заданном словаре\", '\\n')\n",
        "\n",
        "print(Capitals.values(), \"- Этот метод возвращает представление значений в заданном словаре\", '\\n')\n",
        "\n",
        "print(Capitals.items(), \"- Этот метод возвращает представление пар (кортежей) ключ-значение в заданном словаре\", '\\n')"
      ],
      "metadata": {
        "colab": {
          "base_uri": "https://localhost:8080/"
        },
        "id": "aSmRyuq1WYFC",
        "outputId": "665fe893-83e1-4182-aca9-4f01772ff8ee"
      },
      "execution_count": null,
      "outputs": [
        {
          "output_type": "stream",
          "name": "stdout",
          "text": [
            "dict_keys(['Russia', 'France', 'USA']) - Этот метод возвращает представление клюей в заданном словаре \n",
            "\n",
            "dict_values(['Moscow', 'Paris', 'Washington']) - Этот метод возвращает представление значений в заданном словаре \n",
            "\n",
            "dict_items([('Russia', 'Moscow'), ('France', 'Paris'), ('USA', 'Washington')]) - Этот метод возвращает представление пар (кортежей) ключ-значение в заданном словаре \n",
            "\n"
          ]
        }
      ]
    },
    {
      "cell_type": "markdown",
      "source": [
        "Можно удалять элементы из словаря."
      ],
      "metadata": {
        "id": "oMAiHxh0n_H0"
      }
    },
    {
      "cell_type": "code",
      "source": [
        "if 'Russia' in Capitals:\n",
        "  del Capitals['Russia'] #работает не только для словаря, кстати!\n",
        "print(Capitals)"
      ],
      "metadata": {
        "colab": {
          "base_uri": "https://localhost:8080/"
        },
        "id": "ZsZ6HgWNn7fZ",
        "outputId": "4e8b59d3-8bcd-4e21-fc49-014e48bb46e0"
      },
      "execution_count": null,
      "outputs": [
        {
          "output_type": "stream",
          "name": "stdout",
          "text": [
            "{'France': 'Paris', 'USA': 'Washington'}\n"
          ]
        }
      ]
    },
    {
      "cell_type": "code",
      "source": [
        "Capitals"
      ],
      "metadata": {
        "colab": {
          "base_uri": "https://localhost:8080/"
        },
        "id": "xb-8DO9IC1F6",
        "outputId": "30631f7e-3641-4f73-83f2-5d7cde97ce4c"
      },
      "execution_count": null,
      "outputs": [
        {
          "output_type": "execute_result",
          "data": {
            "text/plain": [
              "{'Russia': 'Moscow', 'France': 'Paris', 'USA': 'Washington'}"
            ]
          },
          "metadata": {},
          "execution_count": 18
        }
      ]
    },
    {
      "cell_type": "code",
      "source": [
        "# можно также изменять значение по ключу.\n",
        "\n",
        "Capitals['Russia'] = 'London'\n",
        "Capitals"
      ],
      "metadata": {
        "colab": {
          "base_uri": "https://localhost:8080/"
        },
        "id": "FxJnftA7oAyK",
        "outputId": "238aa6eb-0561-4c89-b9b3-939b7b0a0e49"
      },
      "execution_count": null,
      "outputs": [
        {
          "output_type": "execute_result",
          "data": {
            "text/plain": [
              "{'Russia': 'London', 'France': 'Paris', 'USA': 'Washington'}"
            ]
          },
          "metadata": {},
          "execution_count": 19
        }
      ]
    },
    {
      "cell_type": "code",
      "source": [
        "Capitals['France'] = [100, 90]\n",
        "Capitals"
      ],
      "metadata": {
        "colab": {
          "base_uri": "https://localhost:8080/"
        },
        "id": "HnmY8fQmC843",
        "outputId": "0fc3e40c-d1d2-410e-bbb7-3c29148b9f1c"
      },
      "execution_count": null,
      "outputs": [
        {
          "output_type": "execute_result",
          "data": {
            "text/plain": [
              "{'Russia': 'London', 'France': [100, 90], 'USA': 'Washington'}"
            ]
          },
          "metadata": {},
          "execution_count": 21
        }
      ]
    },
    {
      "cell_type": "markdown",
      "source": [
        "#### Set (множество)\n",
        "\n",
        "Множество служит для хранения уникальных элементов и только их."
      ],
      "metadata": {
        "id": "KZrmjpADoFR7"
      }
    },
    {
      "cell_type": "markdown",
      "source": [
        "![image.png](data:image/png;base64,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)"
      ],
      "metadata": {
        "id": "yibDVQ1zoRGP"
      }
    },
    {
      "cell_type": "code",
      "source": [
        "list []\n",
        "tuple ()\n",
        "dict {}\n",
        "\n",
        "set {}"
      ],
      "metadata": {
        "id": "VTtEhlHKDlCe"
      },
      "execution_count": null,
      "outputs": []
    },
    {
      "cell_type": "code",
      "source": [
        "A = {1, 2, 3}\n",
        "print(A)\n",
        "#ЗАПОМНИТЕ нельзя написать A = {} для создания множества, интерпритатор поймёт это как пустой словарь\n",
        "\n",
        "A = set('123')\n",
        "print(A)"
      ],
      "metadata": {
        "id": "CR6OrhsFobCp",
        "colab": {
          "base_uri": "https://localhost:8080/"
        },
        "outputId": "322d4bd5-3566-4b6a-fa00-bec6b2a565fc"
      },
      "execution_count": null,
      "outputs": [
        {
          "output_type": "stream",
          "name": "stdout",
          "text": [
            "{1, 2, 3}\n",
            "{'3', '2', '1'}\n"
          ]
        }
      ]
    },
    {
      "cell_type": "code",
      "source": [
        "A = {1, 2, 3, 4}\n",
        "B = {1, 1, 2, 3, 4, 4}\n",
        "print(B)\n",
        "print(A)\n",
        "\n",
        "#как и вслучае со списоком, создавая множество через команду set() вы разбираете объекта на элементы\n",
        "print('1:', set('НИЯУ МИФИ ФФ '))\n",
        "print('2:', {'НИЯУ МИФИ'})"
      ],
      "metadata": {
        "colab": {
          "base_uri": "https://localhost:8080/"
        },
        "id": "Sw6Cn_rOoBK7",
        "outputId": "c3b54e8c-8709-46fe-cb8e-a9a99741cf45"
      },
      "execution_count": null,
      "outputs": [
        {
          "output_type": "stream",
          "name": "stdout",
          "text": [
            "{1, 2, 3, 4}\n",
            "{1, 2, 3, 4}\n",
            "1: {'М', 'И', ' ', 'Я', 'Н', 'У', 'Ф'}\n",
            "2: {'НИЯУ МИФИ'}\n"
          ]
        }
      ]
    },
    {
      "cell_type": "code",
      "source": [
        "A = {1, 2, 3, 4}\n",
        "A"
      ],
      "metadata": {
        "colab": {
          "base_uri": "https://localhost:8080/"
        },
        "id": "Q9FxzXqgEZ2p",
        "outputId": "ae36e8a1-4184-4269-ad8b-52cd5cd4ede0"
      },
      "execution_count": null,
      "outputs": [
        {
          "output_type": "execute_result",
          "data": {
            "text/plain": [
              "{1, 2, 3, 4}"
            ]
          },
          "metadata": {},
          "execution_count": 27
        }
      ]
    },
    {
      "cell_type": "code",
      "source": [
        "#Добавление и удаление элемента из множества\n",
        "A = {8, 2, 11, 4, 42, 6, 7}\n",
        "\n",
        "print(A, \"- вначале\", '\\n', '-'*32)\n",
        "A.add(80)\n",
        "print(A, '- add', '\\n', '-'*32)\n",
        "\n",
        "#метод .pop() \"достаёт\" первый элемент из множества\n",
        "print(A.pop(), end=' ')\n",
        "print(A, '- pop', '\\n')\n",
        "A.discard(11)\n",
        "print(A, '- discard', '\\n') #при отсутствии заданного элемента не делает ничего\n",
        "A.remove(6)\n",
        "print(A, '- remove', '\\n') #при отсутствии заданного элемента поднимаент исключение KeyError"
      ],
      "metadata": {
        "colab": {
          "base_uri": "https://localhost:8080/"
        },
        "id": "cELyY7OEoe1z",
        "outputId": "a96a2468-4094-4401-b71e-d9ccc2c978b4"
      },
      "execution_count": null,
      "outputs": [
        {
          "output_type": "stream",
          "name": "stdout",
          "text": [
            "{2, 4, 6, 7, 8, 42, 11} - вначале \n",
            " --------------------------------\n",
            "{80, 2, 4, 6, 7, 8, 42, 11} - add \n",
            " --------------------------------\n",
            "80 {2, 4, 6, 7, 8, 42, 11} - pop \n",
            "\n",
            "{2, 4, 6, 7, 8, 42} - discard \n",
            "\n",
            "{2, 4, 7, 8, 42} - remove \n",
            "\n"
          ]
        }
      ]
    },
    {
      "cell_type": "code",
      "source": [
        "A = {8, 2, 11, 4, 42, 6, 7}\n",
        "A.discard(11)\n",
        "A.remove(6)"
      ],
      "metadata": {
        "id": "dtDga5yMogxh"
      },
      "execution_count": null,
      "outputs": []
    },
    {
      "cell_type": "code",
      "source": [
        "A.discard(11)\n",
        "A.remove(6)"
      ],
      "metadata": {
        "colab": {
          "base_uri": "https://localhost:8080/",
          "height": 196
        },
        "id": "eDUkFdoKE1Xz",
        "outputId": "9e293853-1aa3-475a-df5b-4e99d0067e49"
      },
      "execution_count": null,
      "outputs": [
        {
          "output_type": "error",
          "ename": "KeyError",
          "evalue": "ignored",
          "traceback": [
            "\u001b[0;31m---------------------------------------------------------------------------\u001b[0m",
            "\u001b[0;31mKeyError\u001b[0m                                  Traceback (most recent call last)",
            "\u001b[0;32m<ipython-input-31-2c7179f6c44f>\u001b[0m in \u001b[0;36m<cell line: 2>\u001b[0;34m()\u001b[0m\n\u001b[1;32m      1\u001b[0m \u001b[0mA\u001b[0m\u001b[0;34m.\u001b[0m\u001b[0mdiscard\u001b[0m\u001b[0;34m(\u001b[0m\u001b[0;36m11\u001b[0m\u001b[0;34m)\u001b[0m\u001b[0;34m\u001b[0m\u001b[0;34m\u001b[0m\u001b[0m\n\u001b[0;32m----> 2\u001b[0;31m \u001b[0mA\u001b[0m\u001b[0;34m.\u001b[0m\u001b[0mremove\u001b[0m\u001b[0;34m(\u001b[0m\u001b[0;36m6\u001b[0m\u001b[0;34m)\u001b[0m\u001b[0;34m\u001b[0m\u001b[0;34m\u001b[0m\u001b[0m\n\u001b[0m",
            "\u001b[0;31mKeyError\u001b[0m: 6"
          ]
        }
      ]
    },
    {
      "cell_type": "markdown",
      "source": [
        "Вообще, многие стандартные методы работают достаточно странно для непривычного к этому прогаммиста, помните об этом и будьте внимательны!"
      ],
      "metadata": {
        "id": "cSFFMQ6boi3Y"
      }
    },
    {
      "cell_type": "code",
      "source": [
        "set1 = {1, 2, 3}\n",
        "set2 = set1.add(4)\n",
        "\n",
        "print(set2)\n",
        "print(set1)"
      ],
      "metadata": {
        "id": "p4FzRSxboj7V",
        "colab": {
          "base_uri": "https://localhost:8080/"
        },
        "outputId": "fcf8e0bc-539d-4ba0-ddee-c27ba80507bd"
      },
      "execution_count": null,
      "outputs": [
        {
          "output_type": "stream",
          "name": "stdout",
          "text": [
            "None\n",
            "{1, 2, 3, 4}\n"
          ]
        }
      ]
    },
    {
      "cell_type": "markdown",
      "source": [
        "### Перевод из типа в тип\n",
        "\n",
        "Для перевода из типа в тип можно использовать специальные методы-конструкторы типа, которые можно вызвать по их названию.  \n",
        "\n",
        "Обратите внимание, что операция приведения типа не транзитивна.  \n",
        "\n",
        "Команды, `list()`, `set()`, которые мы использовали раннее по сути являются операциями приведения типов. Они создают новый объект заданного типа, используя конструктор того типа, который нам нужен."
      ],
      "metadata": {
        "id": "CpKM2qFBooy-"
      }
    },
    {
      "cell_type": "code",
      "source": [
        "a = '6'\n",
        "print(a)\n",
        "print(type(a))"
      ],
      "metadata": {
        "colab": {
          "base_uri": "https://localhost:8080/"
        },
        "id": "DlDRL_p1Fs1y",
        "outputId": "a696e675-15f4-4e6d-c4ed-aaba8d0b8f66"
      },
      "execution_count": null,
      "outputs": [
        {
          "output_type": "stream",
          "name": "stdout",
          "text": [
            "6\n",
            "<class 'str'>\n"
          ]
        }
      ]
    },
    {
      "cell_type": "code",
      "source": [
        "a = int(a)\n",
        "print(a)\n",
        "print(type(a))"
      ],
      "metadata": {
        "colab": {
          "base_uri": "https://localhost:8080/"
        },
        "id": "OsS_pASvF1CX",
        "outputId": "681b72ad-601d-45da-ef0e-70068f8b5e2b"
      },
      "execution_count": null,
      "outputs": [
        {
          "output_type": "stream",
          "name": "stdout",
          "text": [
            "6\n",
            "<class 'int'>\n"
          ]
        }
      ]
    },
    {
      "cell_type": "code",
      "source": [
        "a = float(a)\n",
        "print(float(a))\n",
        "print(type(a))"
      ],
      "metadata": {
        "colab": {
          "base_uri": "https://localhost:8080/"
        },
        "id": "13mD_6EMGCxf",
        "outputId": "53d642c9-d4c8-4f23-f6e2-b1208fe18a35"
      },
      "execution_count": null,
      "outputs": [
        {
          "output_type": "stream",
          "name": "stdout",
          "text": [
            "6.0\n",
            "<class 'float'>\n"
          ]
        }
      ]
    },
    {
      "cell_type": "code",
      "source": [
        "print('*'*32)\n",
        "c = 5.5\n",
        "print(c)\n",
        "print(type(c))\n",
        "c = int(c)\n",
        "print(c)\n",
        "print(type(c))\n",
        "c = str(c)\n",
        "print(c)\n",
        "print(type(c))\n",
        "\n",
        "\n",
        "print('*'*32)\n",
        "b = 5.5\n",
        "print(b)\n",
        "print(type(b))\n",
        "# b = str(b)\n",
        "print(b)\n",
        "print(type(b))\n",
        "#здесь ошибка, из строки 5.5 нельзя сделать int\n",
        "b = int(b)\n",
        "print(b)\n",
        "print(type(b))"
      ],
      "metadata": {
        "colab": {
          "base_uri": "https://localhost:8080/"
        },
        "id": "9Iwd38tXopYS",
        "outputId": "02693fe2-d171-486f-947a-7bf861e8aeb8"
      },
      "execution_count": null,
      "outputs": [
        {
          "output_type": "stream",
          "name": "stdout",
          "text": [
            "6.0\n",
            "<class 'float'>\n",
            "********************************\n",
            "5.5\n",
            "<class 'float'>\n",
            "5\n",
            "<class 'int'>\n",
            "5\n",
            "<class 'str'>\n",
            "********************************\n",
            "5.5\n",
            "<class 'float'>\n",
            "5.5\n",
            "<class 'float'>\n",
            "5\n",
            "<class 'int'>\n"
          ]
        }
      ]
    },
    {
      "cell_type": "code",
      "source": [
        "a = 6\n",
        "a = str(a)"
      ],
      "metadata": {
        "id": "_ECHYVaJGRTm"
      },
      "execution_count": null,
      "outputs": []
    },
    {
      "cell_type": "code",
      "source": [
        "b = '5.5'\n",
        "b = float(b)\n",
        "b"
      ],
      "metadata": {
        "colab": {
          "base_uri": "https://localhost:8080/"
        },
        "id": "tTljQxgPorFz",
        "outputId": "d00e256f-ac15-46c0-e786-7b8613fcb0bd"
      },
      "execution_count": null,
      "outputs": [
        {
          "output_type": "execute_result",
          "data": {
            "text/plain": [
              "5.5"
            ]
          },
          "metadata": {},
          "execution_count": 43
        }
      ]
    },
    {
      "cell_type": "markdown",
      "source": [
        "## Арифметические операции\n",
        "\n",
        "Арифистические операции, применяемые к стандартным типам данных выглядят стандартно. Однако, у языка Python большие сложности с работой с числами с плавающей запятой.\n",
        "\n",
        "При использовании стандартных библиотек необходимо строго стараться минимизировать колчичество вычислений с плавающей запятой."
      ],
      "metadata": {
        "id": "f8D1bvADovdS"
      }
    },
    {
      "cell_type": "code",
      "source": [
        "a = 5\n",
        "b = 4\n",
        "print('+', a+b)\n",
        "print('*', a*b)\n",
        "print('/', a/b)\n",
        "print('-', a-b)\n",
        "print('// - целочисленное деление:', (a*2)//b)\n",
        "print('% - остаток от деления:', a%b)"
      ],
      "metadata": {
        "colab": {
          "base_uri": "https://localhost:8080/"
        },
        "id": "pTUq2ly3otRq",
        "outputId": "271c7930-7d4b-4e27-9203-805d4ba2a7a7"
      },
      "execution_count": null,
      "outputs": [
        {
          "output_type": "stream",
          "name": "stdout",
          "text": [
            "+ 9\n",
            "* 20\n",
            "/ 1.25\n",
            "- 1\n",
            "// - целочисленное деление: 2\n",
            "% - остаток от деления: 1\n"
          ]
        }
      ]
    },
    {
      "cell_type": "code",
      "source": [
        "print(f'0.1+0.1 = {0.1+0.1}')\n",
        "print(f'0.1+0.1+0.1 = {0.1+0.1+0.1}')\n",
        "print(f'0.1*3 = {0.1*3}')"
      ],
      "metadata": {
        "colab": {
          "base_uri": "https://localhost:8080/"
        },
        "id": "Fp77CFv9oxZJ",
        "outputId": "56ace448-9363-445c-90f7-cba7c79cb0a6"
      },
      "execution_count": null,
      "outputs": [
        {
          "output_type": "stream",
          "name": "stdout",
          "text": [
            "0.1+0.1 = 0.2\n",
            "0.1+0.1+0.1 = 0.30000000000000004\n",
            "0.1*3 = 0.30000000000000004\n"
          ]
        }
      ]
    },
    {
      "cell_type": "code",
      "source": [
        "0.1 + 0.1 + 0.1 == 0.3"
      ],
      "metadata": {
        "colab": {
          "base_uri": "https://localhost:8080/"
        },
        "id": "S1_ltO7fozGC",
        "outputId": "6730ad77-feb6-4819-ee8d-723b5d004a68"
      },
      "execution_count": null,
      "outputs": [
        {
          "output_type": "execute_result",
          "data": {
            "text/plain": [
              "False"
            ]
          },
          "metadata": {},
          "execution_count": 11
        }
      ]
    },
    {
      "cell_type": "code",
      "source": [
        "a = 5\n",
        "print(a)\n",
        "a = a**(1/2)\n",
        "print(a)\n",
        "a = a**2\n",
        "print(a)"
      ],
      "metadata": {
        "colab": {
          "base_uri": "https://localhost:8080/"
        },
        "id": "8z_eFMxuo0rd",
        "outputId": "c9e94f40-9931-4b1d-9dc9-a10b86dd5d70"
      },
      "execution_count": null,
      "outputs": [
        {
          "output_type": "stream",
          "name": "stdout",
          "text": [
            "5\n",
            "2.23606797749979\n",
            "5.000000000000001\n"
          ]
        }
      ]
    },
    {
      "cell_type": "code",
      "source": [
        "a = 3.4533543\n",
        "round(a,2) # округление по правилам математики"
      ],
      "metadata": {
        "colab": {
          "base_uri": "https://localhost:8080/"
        },
        "id": "Vd3TBSPpI6Xd",
        "outputId": "80c7a8f4-8900-41b4-c175-24262a65d709"
      },
      "execution_count": null,
      "outputs": [
        {
          "output_type": "execute_result",
          "data": {
            "text/plain": [
              "3.45"
            ]
          },
          "metadata": {},
          "execution_count": 47
        }
      ]
    },
    {
      "cell_type": "markdown",
      "source": [
        "#### Арифметика со списками\n",
        "\n",
        "Для списков тоже можно использовать арифметические операции, но они будут совершенно по иному работать.\n",
        "\n",
        "Аналогично и для строк."
      ],
      "metadata": {
        "id": "PCiriQ8xo3p3"
      }
    },
    {
      "cell_type": "code",
      "source": [
        "my_list = [1,2]\n",
        "\n",
        "my_list*3"
      ],
      "metadata": {
        "colab": {
          "base_uri": "https://localhost:8080/"
        },
        "id": "CdQRxyllJS1d",
        "outputId": "d2e99887-ab18-433e-857b-8b18e6b9eeb0"
      },
      "execution_count": null,
      "outputs": [
        {
          "output_type": "execute_result",
          "data": {
            "text/plain": [
              "[1, 2, 1, 2, 1, 2]"
            ]
          },
          "metadata": {},
          "execution_count": 49
        }
      ]
    },
    {
      "cell_type": "code",
      "source": [
        "'Hello' + ' ' + 'world'"
      ],
      "metadata": {
        "colab": {
          "base_uri": "https://localhost:8080/",
          "height": 35
        },
        "id": "bq0CFCwDJ4Rj",
        "outputId": "87a8b29b-a3f5-492f-b0cb-65e7f5995356"
      },
      "execution_count": null,
      "outputs": [
        {
          "output_type": "execute_result",
          "data": {
            "text/plain": [
              "'Hello world'"
            ],
            "application/vnd.google.colaboratory.intrinsic+json": {
              "type": "string"
            }
          },
          "metadata": {},
          "execution_count": 52
        }
      ]
    },
    {
      "cell_type": "code",
      "source": [
        "A = [1,1,1]\n",
        "B = [2,2,2]\n",
        "\n",
        "[3,3,3]"
      ],
      "metadata": {
        "id": "t0BWeOdhJsyF"
      },
      "execution_count": null,
      "outputs": []
    },
    {
      "cell_type": "code",
      "source": [
        "arr = [1, 2, 3, 4] + [5, 6, 7, 8, 9]\n",
        "print('4:', arr)\n",
        "\n",
        "arr = [1, 2, 3, 4] * 4\n",
        "print('5:', arr)"
      ],
      "metadata": {
        "id": "8RJ7OCuYo1zJ",
        "colab": {
          "base_uri": "https://localhost:8080/"
        },
        "outputId": "cd274057-f644-4d07-db97-5ca8edc26ae9"
      },
      "execution_count": null,
      "outputs": [
        {
          "output_type": "stream",
          "name": "stdout",
          "text": [
            "4: [1, 2, 3, 4, 5, 6, 7, 8, 9]\n",
            "5: [1, 2, 3, 4, 1, 2, 3, 4, 1, 2, 3, 4, 1, 2, 3, 4]\n"
          ]
        }
      ]
    },
    {
      "cell_type": "code",
      "source": [
        "print(5+5)"
      ],
      "metadata": {
        "colab": {
          "base_uri": "https://localhost:8080/"
        },
        "id": "_8Xy8SJAKDu-",
        "outputId": "0887efc2-853b-4464-a594-ab8d211d9716"
      },
      "execution_count": null,
      "outputs": [
        {
          "output_type": "stream",
          "name": "stdout",
          "text": [
            "10\n"
          ]
        }
      ]
    },
    {
      "cell_type": "code",
      "source": [
        "x = int(input())"
      ],
      "metadata": {
        "colab": {
          "base_uri": "https://localhost:8080/"
        },
        "id": "aU0l70P2KL0d",
        "outputId": "9490777c-1ea9-4bf7-cc05-719831690d3f"
      },
      "execution_count": null,
      "outputs": [
        {
          "name": "stdout",
          "output_type": "stream",
          "text": [
            "5\n"
          ]
        }
      ]
    },
    {
      "cell_type": "code",
      "source": [
        "type(x)"
      ],
      "metadata": {
        "colab": {
          "base_uri": "https://localhost:8080/"
        },
        "id": "g8Mjy_xCKcFB",
        "outputId": "4964cd26-9c28-432b-919a-78d66ac9bfb0"
      },
      "execution_count": null,
      "outputs": [
        {
          "output_type": "execute_result",
          "data": {
            "text/plain": [
              "int"
            ]
          },
          "metadata": {},
          "execution_count": 60
        }
      ]
    }
  ]
}