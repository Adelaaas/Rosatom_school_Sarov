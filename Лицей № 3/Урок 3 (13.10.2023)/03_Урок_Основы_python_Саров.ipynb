{
  "nbformat": 4,
  "nbformat_minor": 0,
  "metadata": {
    "colab": {
      "provenance": []
    },
    "kernelspec": {
      "name": "python3",
      "display_name": "Python 3"
    },
    "language_info": {
      "name": "python"
    }
  },
  "cells": [
    {
      "cell_type": "markdown",
      "metadata": {
        "id": "weTl5RMQKjR2"
      },
      "source": [
        "# Основы языка Python"
      ]
    },
    {
      "cell_type": "code",
      "source": [
        "int\n",
        "bool\n",
        "float\n",
        "\n",
        "dict\n",
        "list\n",
        "set\n",
        "tuple\n",
        "\n",
        "a = (1,2,3)\n",
        "тип переменной a - ? tuple\n",
        "\n",
        "a = {1,2,3}\n",
        "тип переменной a - set - только уникальные значения\n",
        "\n",
        "чем set отличается от list?\n",
        "\n",
        "a = [1,2,3,3]"
      ],
      "metadata": {
        "id": "DTgChxHEtKEp"
      },
      "execution_count": null,
      "outputs": []
    },
    {
      "cell_type": "code",
      "source": [
        "a = {}\n",
        "\n",
        "# тип переменной a - ?\n",
        "type(a)"
      ],
      "metadata": {
        "colab": {
          "base_uri": "https://localhost:8080/"
        },
        "id": "kSDFzL8ytxj6",
        "outputId": "bb5003f1-911f-41e4-d488-ec51a230c9b0"
      },
      "execution_count": null,
      "outputs": [
        {
          "output_type": "execute_result",
          "data": {
            "text/plain": [
              "dict"
            ]
          },
          "metadata": {},
          "execution_count": 3
        }
      ]
    },
    {
      "cell_type": "code",
      "source": [
        "s = 'Hello'\n",
        "\n",
        "# что собой представляет строка в питоне? список , который из отдельных символов\n",
        "# s[0:4] - срез\n",
        "\n",
        "# s[start:stop-1:step]"
      ],
      "metadata": {
        "colab": {
          "base_uri": "https://localhost:8080/",
          "height": 35
        },
        "id": "TdV8spYyuWqd",
        "outputId": "4f6259f0-3b8f-4c26-d7db-c702dbc3a61c"
      },
      "execution_count": null,
      "outputs": [
        {
          "output_type": "execute_result",
          "data": {
            "text/plain": [
              "'o'"
            ],
            "application/vnd.google.colaboratory.intrinsic+json": {
              "type": "string"
            }
          },
          "metadata": {},
          "execution_count": 5
        }
      ]
    },
    {
      "cell_type": "code",
      "source": [],
      "metadata": {
        "id": "PImABFAgvbpP"
      },
      "execution_count": null,
      "outputs": []
    },
    {
      "cell_type": "markdown",
      "source": [
        "## Условия\n",
        "\n",
        "Использование условий в языке python похоже на любой другой язык.\n",
        "\n",
        "```\n",
        "if (условие):\n",
        "____код\n",
        "elif (условие):\n",
        "____код\n",
        "else:\n",
        "____кода\n",
        "```\n",
        "Или\n",
        "```\n",
        "if (условие):\n",
        "____код\n",
        "else:\n",
        "____кода\n",
        "```\n",
        "Или\n",
        "```\n",
        "if (условие):\n",
        "____код\n",
        "```\n",
        "\n",
        "Обратите внимание, на необходимость использования отступов для корректной интерпретации кода.\n",
        "\n",
        "**В отличии от других языков, отступы в Python необходимы для корректного исполнения кода.**"
      ],
      "metadata": {
        "id": "RDKHQxi1z4xo"
      }
    },
    {
      "cell_type": "code",
      "source": [
        "x = input() # всегда возвращает тип str"
      ],
      "metadata": {
        "colab": {
          "base_uri": "https://localhost:8080/"
        },
        "id": "YkKgtiMWL-Wr",
        "outputId": "eb9474e4-6d94-4b99-b75b-3330ee2cbe43"
      },
      "execution_count": null,
      "outputs": [
        {
          "name": "stdout",
          "output_type": "stream",
          "text": [
            "hello\n"
          ]
        }
      ]
    },
    {
      "cell_type": "code",
      "source": [
        "type(x)"
      ],
      "metadata": {
        "colab": {
          "base_uri": "https://localhost:8080/"
        },
        "id": "MDTuoEHcwX_j",
        "outputId": "1a370b70-f218-4c42-9e5b-c769393b3c17"
      },
      "execution_count": null,
      "outputs": [
        {
          "output_type": "execute_result",
          "data": {
            "text/plain": [
              "str"
            ]
          },
          "metadata": {},
          "execution_count": 7
        }
      ]
    },
    {
      "cell_type": "code",
      "source": [
        "x = int(x)\n",
        "type(x)"
      ],
      "metadata": {
        "colab": {
          "base_uri": "https://localhost:8080/",
          "height": 193
        },
        "id": "FYMm1F4TMA8m",
        "outputId": "7efacf16-7d4e-4ecd-ee29-39123388f32d"
      },
      "execution_count": null,
      "outputs": [
        {
          "output_type": "error",
          "ename": "ValueError",
          "evalue": "ignored",
          "traceback": [
            "\u001b[0;31m---------------------------------------------------------------------------\u001b[0m",
            "\u001b[0;31mValueError\u001b[0m                                Traceback (most recent call last)",
            "\u001b[0;32m<ipython-input-10-0110eb7f7b0e>\u001b[0m in \u001b[0;36m<cell line: 1>\u001b[0;34m()\u001b[0m\n\u001b[0;32m----> 1\u001b[0;31m \u001b[0mx\u001b[0m \u001b[0;34m=\u001b[0m \u001b[0mint\u001b[0m\u001b[0;34m(\u001b[0m\u001b[0mx\u001b[0m\u001b[0;34m)\u001b[0m\u001b[0;34m\u001b[0m\u001b[0;34m\u001b[0m\u001b[0m\n\u001b[0m\u001b[1;32m      2\u001b[0m \u001b[0mtype\u001b[0m\u001b[0;34m(\u001b[0m\u001b[0mx\u001b[0m\u001b[0;34m)\u001b[0m\u001b[0;34m\u001b[0m\u001b[0;34m\u001b[0m\u001b[0m\n",
            "\u001b[0;31mValueError\u001b[0m: invalid literal for int() with base 10: 'hello'"
          ]
        }
      ]
    },
    {
      "cell_type": "code",
      "source": [
        "x = int(input())\n",
        "\n",
        "if x > 0:\n",
        "    print('Положительная зона')\n",
        "    print(x)\n",
        "else:\n",
        "    print('Неположительная зона')\n",
        "    print(x)"
      ],
      "metadata": {
        "id": "3SYzjVfy09Mz",
        "colab": {
          "base_uri": "https://localhost:8080/"
        },
        "outputId": "16a74bf1-6531-47eb-cca7-76ebbbc29d2a"
      },
      "execution_count": null,
      "outputs": [
        {
          "output_type": "stream",
          "name": "stdout",
          "text": [
            "7\n",
            "Положительная зона\n",
            "7\n"
          ]
        }
      ]
    },
    {
      "cell_type": "code",
      "source": [
        "x = int(input())\n",
        "\n",
        "if -10 < x < 10:\n",
        "    print('Да, это число принадлежит диапазону (-10,10)')\n",
        "\n",
        "print(\"hello\")"
      ],
      "metadata": {
        "id": "iFG9Hr0pM_bD",
        "colab": {
          "base_uri": "https://localhost:8080/"
        },
        "outputId": "1d4c860f-a37c-445f-bc6d-45b6b196c0d5"
      },
      "execution_count": null,
      "outputs": [
        {
          "output_type": "stream",
          "name": "stdout",
          "text": [
            "-20\n",
            "hello\n"
          ]
        }
      ]
    },
    {
      "cell_type": "markdown",
      "source": [
        "Для формирования сложных условий можно использовать логические операции и различные операторы сравнения.\n",
        "\n",
        "Операторы сравнения:  \n",
        "`<` Меньше — условие верно, если первый операнд меньше второго.  \n",
        "`>` Больше — условие верно, если первый операнд больше второго.  \n",
        "`<=` Меньше или равно.  \n",
        "`>=` Больше или равно.\n",
        "\n",
        "`==` Равенство. Условие верно, если два операнда равны.  \n",
        "`!=` Неравенство. Условие верно, если два операнда неравны.  \n",
        "`a <= x <= b` - x находится в интервале от a до b.\n",
        "\n",
        "Логические операции:  \n",
        "`and` - логическое \"И\"  \n",
        "`or` - логическое \"Или\"  \n",
        "`not` - логическое \"Отрицание\""
      ],
      "metadata": {
        "id": "U05Ez20d0_fO"
      }
    },
    {
      "cell_type": "code",
      "source": [
        "and = * | or\n",
        "0 0 = 0 = 0\n",
        "0 1 = 0 = 1\n",
        "1 0 = 0 = 1\n",
        "1 1 = 1 = 1"
      ],
      "metadata": {
        "id": "CYAbjSSQxbi8"
      },
      "execution_count": null,
      "outputs": []
    },
    {
      "cell_type": "code",
      "source": [
        "a = int(input())\n",
        "b = int(input())\n",
        "x = int(input())\n",
        "\n",
        "if a <= x <= b and x > 0:\n",
        "    # True and False = False\n",
        "    print('YES')\n",
        "else:\n",
        "    print('No')"
      ],
      "metadata": {
        "id": "Vp0IORy-0_vX",
        "colab": {
          "base_uri": "https://localhost:8080/"
        },
        "outputId": "9bec075a-421d-46ac-d8e6-ad2c3c3c45ee"
      },
      "execution_count": null,
      "outputs": [
        {
          "output_type": "stream",
          "name": "stdout",
          "text": [
            "1\n",
            "5\n",
            "10\n",
            "No\n"
          ]
        }
      ]
    },
    {
      "cell_type": "markdown",
      "source": [
        "Для проверки наличия элементов в спиcке используется операция\n",
        "\n",
        "```\n",
        "in\n",
        "```\n"
      ],
      "metadata": {
        "id": "2z0j8VRE1Bs8"
      }
    },
    {
      "cell_type": "code",
      "source": [
        "A = [1, 2, 3, 4, 5, 6, 7, 8]\n",
        "b = int(input())\n",
        "\n",
        "if b in A:\n",
        "  print('yes')\n",
        "else:\n",
        "  print('no')"
      ],
      "metadata": {
        "id": "pCZOHEZF1DQr",
        "colab": {
          "base_uri": "https://localhost:8080/"
        },
        "outputId": "93354252-2e6f-4f9a-e98d-0087ca50dba8"
      },
      "execution_count": null,
      "outputs": [
        {
          "output_type": "stream",
          "name": "stdout",
          "text": [
            "5\n",
            "yes\n"
          ]
        }
      ]
    },
    {
      "cell_type": "markdown",
      "source": [
        "### Задача \"Високосный год\""
      ],
      "metadata": {
        "id": "KLFmrbno-mLu"
      }
    },
    {
      "cell_type": "markdown",
      "source": [
        "Дано натуральное число. Требуется определить, является ли год с данным номером високосным. Если год является високосным, то выведите YES, иначе выведите NO. Напомним, что в соответствии с григорианским календарем, год является високосным, если его номер кратен 4, но не кратен 100, а также если он кратен 400."
      ],
      "metadata": {
        "id": "kLBPNjyD-p_Q"
      }
    },
    {
      "cell_type": "code",
      "source": [
        "# ваше решение\n",
        "year = int(input())\n",
        "\n",
        "if (year%4 == 0 and year%100 != 0) or year%400 != 0:\n",
        "    print('Високосный год')\n",
        "else:\n",
        "    print('Не високосный год')"
      ],
      "metadata": {
        "id": "t1GtrRMM-qY-",
        "colab": {
          "base_uri": "https://localhost:8080/"
        },
        "outputId": "c4901823-d2a4-4222-fe94-507823c02484"
      },
      "execution_count": null,
      "outputs": [
        {
          "output_type": "stream",
          "name": "stdout",
          "text": [
            "2008\n",
            "Весокосный год\n"
          ]
        }
      ]
    },
    {
      "cell_type": "markdown",
      "source": [
        "##Циклы for и while"
      ],
      "metadata": {
        "id": "Qm-uhwN_z5i2"
      }
    },
    {
      "cell_type": "markdown",
      "source": [
        "Циклы python — for и while представляют собой операторы языка программирования, то есть операторы итерации, которые позволяют повторять код определенное количество раз."
      ],
      "metadata": {
        "id": "AtE37wHl0FP8"
      }
    },
    {
      "cell_type": "code",
      "source": [
        "A = [1,2,3,5]\n",
        "\n",
        "A[0] += 1\n",
        "A[1] += 1\n",
        "A[2] += 1\n",
        "A[3] += 1"
      ],
      "metadata": {
        "id": "_uDc9WIizY_s"
      },
      "execution_count": null,
      "outputs": []
    },
    {
      "cell_type": "markdown",
      "source": [
        "###Синтаксис цикла `For`"
      ],
      "metadata": {
        "id": "fiNVuJ4a0L0i"
      }
    },
    {
      "cell_type": "markdown",
      "source": [
        "Как уже упоминалось ранее, цикл for в Python является итератором, основанным на цикле. Он проходит по элементам list и tuple, строкам, ключам словаря и другим итерируемым объектам.\n",
        "\n",
        "В Python цикл начинается с ключевого слова for, за которым следует произвольное имя переменной, которое будет хранить значения следующего объекта последовательности. Общий синтаксис for...in в python выглядит следующим образом:\n",
        "\n",
        "```\n",
        "for <переменная> in <последовательность>:\n",
        "    <действие>\n",
        "else:\n",
        "    <действие>\n",
        "```\n",
        "\n",
        "Элементы «последовательности» перебираются один за другим «переменной» цикла; если быть точным, переменная указывает на элементы. Для каждого элемента выполняется «действие»."
      ],
      "metadata": {
        "id": "AfMSd2so0QOD"
      }
    },
    {
      "cell_type": "code",
      "source": [
        "lst = [10,5,3,7,8]\n",
        "0,1,2,3,4"
      ],
      "metadata": {
        "id": "lw30K_LhIuUy"
      },
      "execution_count": null,
      "outputs": []
    },
    {
      "cell_type": "code",
      "source": [
        "week = ['пн', 'вт', 'ср', 'чт', 'пт', 'сб']\n",
        "\n",
        "for i in week:\n",
        "    # i - значение week\n",
        "    print(f'Идти в школу в {i}')\n",
        "else:\n",
        "    print('Сегодня выходной')"
      ],
      "metadata": {
        "colab": {
          "base_uri": "https://localhost:8080/"
        },
        "id": "gvVGVqnyPdvE",
        "outputId": "76b0470a-f668-41ab-ee18-9c948ae45497"
      },
      "execution_count": null,
      "outputs": [
        {
          "output_type": "stream",
          "name": "stdout",
          "text": [
            "Идти в школу в пн\n",
            "Идти в школу в вт\n",
            "Идти в школу в ср\n",
            "Идти в школу в чт\n",
            "Идти в школу в пт\n",
            "Идти в школу в сб\n",
            "Сегодня выходной\n"
          ]
        }
      ]
    },
    {
      "cell_type": "code",
      "source": [
        "len(week)"
      ],
      "metadata": {
        "colab": {
          "base_uri": "https://localhost:8080/"
        },
        "id": "McBNIHwqJ0wa",
        "outputId": "c0bffe3b-5cf4-4566-84d9-b0619f6948c6"
      },
      "execution_count": null,
      "outputs": [
        {
          "output_type": "execute_result",
          "data": {
            "text/plain": [
              "6"
            ]
          },
          "metadata": {},
          "execution_count": 21
        }
      ]
    },
    {
      "cell_type": "code",
      "source": [
        "range(len(week)) # range(6): от до 6-1 с шагом 1\n",
        "# 0 1 2 3 4 5"
      ],
      "metadata": {
        "id": "AXhb-JK2JyDa"
      },
      "execution_count": null,
      "outputs": []
    },
    {
      "cell_type": "code",
      "source": [
        "# range(start, stop-1, step) - генерирует список\n",
        "# start = 0 - по дефолту\n",
        "# step = 1 - по дефолту\n",
        "# list(range(start,stop,step))\n",
        "list(range(0,5,1))"
      ],
      "metadata": {
        "colab": {
          "base_uri": "https://localhost:8080/"
        },
        "id": "5yioLaCdQOZF",
        "outputId": "ed5c58ce-a4aa-4890-feb5-b4e3e408d6da"
      },
      "execution_count": null,
      "outputs": [
        {
          "output_type": "execute_result",
          "data": {
            "text/plain": [
              "[0, 1, 2, 3, 4]"
            ]
          },
          "metadata": {},
          "execution_count": 24
        }
      ]
    },
    {
      "cell_type": "code",
      "source": [
        "for i in range(len(week)):\n",
        "    # i - индексы week\n",
        "    print(f'Идти в школу в {week[i]}')"
      ],
      "metadata": {
        "colab": {
          "base_uri": "https://localhost:8080/"
        },
        "id": "3FR7naMxKHvj",
        "outputId": "6198c6b3-59eb-4fe8-c2ee-133fb95baf1a"
      },
      "execution_count": null,
      "outputs": [
        {
          "output_type": "stream",
          "name": "stdout",
          "text": [
            "Идти в школу в пн\n",
            "Идти в школу в вт\n",
            "Идти в школу в ср\n",
            "Идти в школу в чт\n",
            "Идти в школу в пт\n",
            "Идти в школу в сб\n"
          ]
        }
      ]
    },
    {
      "cell_type": "code",
      "source": [
        "lst = [1,3,6,1,9]\n",
        "len(lst)\n",
        "\n",
        "lst[0] += 1\n",
        "lst[1] += 1\n",
        "...."
      ],
      "metadata": {
        "colab": {
          "base_uri": "https://localhost:8080/"
        },
        "id": "Hr2aZo0XQh03",
        "outputId": "4214a77b-82cc-4eba-8072-56151e96e6da"
      },
      "execution_count": null,
      "outputs": [
        {
          "output_type": "execute_result",
          "data": {
            "text/plain": [
              "5"
            ]
          },
          "metadata": {},
          "execution_count": 13
        }
      ]
    },
    {
      "cell_type": "code",
      "source": [
        "list(range(len(lst)))"
      ],
      "metadata": {
        "colab": {
          "base_uri": "https://localhost:8080/"
        },
        "id": "zDEeTmwbQ10M",
        "outputId": "1ee1cc9a-795f-4ece-bb47-5772f6db1e0a"
      },
      "execution_count": null,
      "outputs": [
        {
          "output_type": "execute_result",
          "data": {
            "text/plain": [
              "[0, 1, 2, 3, 4]"
            ]
          },
          "metadata": {},
          "execution_count": 15
        }
      ]
    },
    {
      "cell_type": "code",
      "source": [
        "lst = [1,3,6,1,9]\n",
        "# [2,4,7,2,10]\n",
        "\n",
        "# к каждому элементу списка необходимо добавить число 1\n",
        "for i in lst:\n",
        "    # в переменной i лежит значение элемента списка\n",
        "    i += 1\n",
        "\n",
        "print(lst)\n",
        "\n",
        "for i in range(len(lst)):\n",
        "    # в данном случае в переменной i лежат индексы элементов списка\n",
        "    lst[i] += 1\n",
        "\n",
        "print(lst)"
      ],
      "metadata": {
        "id": "rX0OLGMT0SsA",
        "colab": {
          "base_uri": "https://localhost:8080/"
        },
        "outputId": "b309a8aa-db14-431f-e44b-a0647d65e144"
      },
      "execution_count": null,
      "outputs": [
        {
          "output_type": "stream",
          "name": "stdout",
          "text": [
            "[1, 3, 6, 1, 9]\n",
            "[2, 4, 7, 2, 10]\n"
          ]
        }
      ]
    },
    {
      "cell_type": "code",
      "source": [
        "list(enumerate(lst))\n",
        "# [2, 4, 7, 2, 10]"
      ],
      "metadata": {
        "colab": {
          "base_uri": "https://localhost:8080/"
        },
        "id": "JAcLpw4DLchy",
        "outputId": "0376fce9-d734-43da-acb8-6c7947fe4a64"
      },
      "execution_count": null,
      "outputs": [
        {
          "output_type": "execute_result",
          "data": {
            "text/plain": [
              "[(0, 2), (1, 4), (2, 7), (3, 2), (4, 10)]"
            ]
          },
          "metadata": {},
          "execution_count": 9
        }
      ]
    },
    {
      "cell_type": "code",
      "source": [
        "for index, value in enumerate(lst):\n",
        "    # в данном случае в переменной index лежат индексы элементов списка\n",
        "    # в переменной value значение элемента списка\n",
        "    print(f'This is index: {index}, this is value: {value}')\n",
        "    value += 1\n",
        "    lst[index] += 1"
      ],
      "metadata": {
        "colab": {
          "base_uri": "https://localhost:8080/"
        },
        "id": "oOIIJklVKrS2",
        "outputId": "78265a9b-75b1-4623-e62d-c0edad9a4dde"
      },
      "execution_count": null,
      "outputs": [
        {
          "output_type": "stream",
          "name": "stdout",
          "text": [
            "This is index: 0, this is value: 2\n",
            "This is index: 1, this is value: 4\n",
            "This is index: 2, this is value: 7\n",
            "This is index: 3, this is value: 2\n",
            "This is index: 4, this is value: 10\n"
          ]
        }
      ]
    },
    {
      "cell_type": "code",
      "source": [
        "list(enumerate(lst))"
      ],
      "metadata": {
        "colab": {
          "base_uri": "https://localhost:8080/"
        },
        "id": "cPIKYTjORC7r",
        "outputId": "1e02862e-d81e-44f0-9f8c-c564d1ebbcea"
      },
      "execution_count": null,
      "outputs": [
        {
          "output_type": "execute_result",
          "data": {
            "text/plain": [
              "[(0, 1), (1, 3), (2, 6), (3, 1), (4, 9)]"
            ]
          },
          "metadata": {},
          "execution_count": 17
        }
      ]
    },
    {
      "cell_type": "code",
      "source": [
        "lst = [1,3,6,1,9]\n",
        "# к каждому элементу списка необходимо добавить число 1\n",
        "for i in lst:\n",
        "    # в переменной i лежит значение элемента списка\n",
        "    i += 1\n",
        "\n",
        "lst"
      ],
      "metadata": {
        "id": "ghZxjpZK0UmA"
      },
      "execution_count": null,
      "outputs": []
    },
    {
      "cell_type": "markdown",
      "source": [
        "Блок else является особенным.\n",
        "\n",
        "Он будет выполнен только в том случае, если цикл не был «остановлен» оператором break. Таким образом, он будет выполнен только после того, как все элементы последовательности будут пройдены.\n",
        "\n",
        "Если в программе цикл for должен быть прерван оператором break, цикл будет завершен, и поток программы будет продолжен без выполнения действий из else.\n",
        "\n",
        "Обычно фразы **break** в Python связаны с условными операторами."
      ],
      "metadata": {
        "id": "iQosHqFi0W1u"
      }
    },
    {
      "cell_type": "code",
      "source": [
        "names = [\"Петр\", \"Иван\", \"Максим\", \"Мария\"]\n",
        "\n",
        "# Цикл по очередно перебирает имена в списке\n",
        "# Как только мы нашли имя Максим, цикл необходимо преравать и не просматривать следующие элементы\n",
        "for name in names:\n",
        "    if name == \"Максим\":\n",
        "        print(\"Меня зовут Максим!\")\n",
        "        break\n",
        "    print(\"Другие имена\", name)\n",
        "else:\n",
        "    print(\"Спасибо, теперь я знаю все имена\")"
      ],
      "metadata": {
        "id": "_ElNLkRb0acM",
        "colab": {
          "base_uri": "https://localhost:8080/"
        },
        "outputId": "7d4eb3b3-90e6-4b91-9099-057e628af2ec"
      },
      "execution_count": null,
      "outputs": [
        {
          "output_type": "stream",
          "name": "stdout",
          "text": [
            "Другие имена Петр\n",
            "Другие имена Иван\n",
            "Меня зовут Максим!\n"
          ]
        }
      ]
    },
    {
      "cell_type": "markdown",
      "source": [
        "Оператор пропуска Python — **continue**\n",
        "\n",
        "Предположим, имя \"Максим\" нам нужно просто пропустить и продолжить дальше перебор имен. Тогда нужно использовать оператор continue, для перехода к следующему элементу.\n",
        "\n",
        "В следующем маленьком скрипте python мы используем continue, чтобы продолжить, итерацию по списку, когда мы сталкиваемся с нужным именем."
      ],
      "metadata": {
        "id": "OSUIL5Ti0eSE"
      }
    },
    {
      "cell_type": "code",
      "source": [
        "names = [\"Петр\", \"Иван\", \"Максим\", \"Мария\", \"Максим\"]\n",
        "\n",
        "for name in names:\n",
        "    if name == \"Максим\":\n",
        "        print(\"Меня зовут Максим!\")\n",
        "        continue\n",
        "    print(\"Другие имена\", name)\n",
        "    # code\n",
        "else:\n",
        "    print(\"Спасибо, теперь я знаю все имена\")"
      ],
      "metadata": {
        "id": "0-ST26eb0fGD",
        "colab": {
          "base_uri": "https://localhost:8080/"
        },
        "outputId": "5a25f862-e832-48f8-de14-98bc1c2a566c"
      },
      "execution_count": null,
      "outputs": [
        {
          "output_type": "stream",
          "name": "stdout",
          "text": [
            "Другие имена Петр\n",
            "Другие имена Иван\n",
            "Меня зовут Максим!\n",
            "Другие имена Мария\n",
            "Меня зовут Максим!\n",
            "Спасибо, теперь я знаю все имена\n"
          ]
        }
      ]
    },
    {
      "cell_type": "code",
      "source": [
        "for i in range (1, 3):\n",
        "  i = 10\n",
        "  print(i)\n",
        "  i = 11\n",
        "  print(i)\n",
        "  i = 12\n",
        "  print(i)"
      ],
      "metadata": {
        "id": "hART8Qgx0ipK"
      },
      "execution_count": null,
      "outputs": []
    },
    {
      "cell_type": "markdown",
      "source": [
        "#### Задача «Количество нулей»"
      ],
      "metadata": {
        "id": "5CUSGWqi-4IS"
      }
    },
    {
      "cell_type": "markdown",
      "source": [
        "Вам дан список из N элементов (можете создать сами, либо организовать ввод с клавиатуры), необходимо посчитать сколько чисел в данном списке являются 0."
      ],
      "metadata": {
        "id": "jTG0_8iu-6zL"
      }
    },
    {
      "cell_type": "code",
      "source": [
        "# Ваше решение"
      ],
      "metadata": {
        "id": "JcqAmvOW_HYF"
      },
      "execution_count": null,
      "outputs": []
    },
    {
      "cell_type": "markdown",
      "source": [
        "### Синтаксис `while`"
      ],
      "metadata": {
        "id": "V7uoMAnL0m5Q"
      }
    },
    {
      "cell_type": "markdown",
      "source": [
        "\n",
        "```\n",
        "while <условие (булевское выражение)>:\n",
        "    <code>\n",
        "else:\n",
        "    <code>\n",
        "```\n",
        "\n",
        "Здесь код, написанный вместо `code` будет выполняться каждую итерацию цикла, пока условие после `while` будет выполняться.\n",
        "\n",
        "Посмотрим на примере: Напишем цикл, в котором будем выводить переменную x и увеличивать x на 1, пока x не станет больше 10:"
      ],
      "metadata": {
        "id": "4hYhZv9G0njd"
      }
    },
    {
      "cell_type": "code",
      "source": [
        "x = int(input())\n",
        "\n",
        "while (x <= 10) or ():\n",
        "    print(x)\n",
        "    # более удобный способ записи x = x + 1\n",
        "    x += 1"
      ],
      "metadata": {
        "id": "pn8EPTT40qbE",
        "colab": {
          "base_uri": "https://localhost:8080/"
        },
        "outputId": "058e02ab-5ec2-4a19-d99e-51e9131ae3c2"
      },
      "execution_count": null,
      "outputs": [
        {
          "output_type": "stream",
          "name": "stdout",
          "text": [
            "1\n",
            "2\n",
            "3\n",
            "4\n",
            "5\n",
            "6\n",
            "7\n",
            "8\n",
            "9\n",
            "10\n"
          ]
        }
      ]
    },
    {
      "cell_type": "markdown",
      "source": [
        "Цикл while является своего рода условным оператором. Вот что значит этот код: пока переменная i меньше 10, её нужно выводить на экран. Далее, в конце, мы увеличиваем её значение на единицу. Если вы запустите этот код, он выдаст от 1 до 10, каждая цифра будет в отдельной строке, после чего задача будет выполнена. Если вы удалите ту часть, в которой мы увеличиваем значение i, то мы получим бесконечный цикл.\n",
        "\n",
        "В циклах `while` также можно использовать оператор break и continue."
      ],
      "metadata": {
        "id": "XFzbitz20vyP"
      }
    },
    {
      "cell_type": "code",
      "source": [
        "x = 1\n",
        "\n",
        "while x < 10:\n",
        "    print(x)\n",
        "\n",
        "    if x == 5:\n",
        "        break\n",
        "\n",
        "    x += 1"
      ],
      "metadata": {
        "id": "o9elTHmn0wC9",
        "colab": {
          "base_uri": "https://localhost:8080/"
        },
        "outputId": "aaaf3179-5741-441b-bc14-bbd576f43f96"
      },
      "execution_count": null,
      "outputs": [
        {
          "output_type": "stream",
          "name": "stdout",
          "text": [
            "1\n",
            "2\n",
            "3\n",
            "4\n",
            "5\n"
          ]
        }
      ]
    },
    {
      "cell_type": "code",
      "source": [
        "x = 1\n",
        "\n",
        "while x < 10:\n",
        "    if x == 3:\n",
        "        x += 1\n",
        "        continue\n",
        "\n",
        "    print(x)\n",
        "    if x == 5:\n",
        "        break\n",
        "\n",
        "    x += 1"
      ],
      "metadata": {
        "id": "UjVqq_sI0zba",
        "colab": {
          "base_uri": "https://localhost:8080/"
        },
        "outputId": "269a0372-14d4-4f56-8c26-15eb9437d3a7"
      },
      "execution_count": null,
      "outputs": [
        {
          "output_type": "stream",
          "name": "stdout",
          "text": [
            "1\n",
            "2\n",
            "4\n",
            "5\n"
          ]
        }
      ]
    },
    {
      "cell_type": "code",
      "source": [
        "x = 1\n",
        "\n",
        "while x < 10:\n",
        "    x += 1\n",
        "else:\n",
        "    print(f'This is else {x}')"
      ],
      "metadata": {
        "colab": {
          "base_uri": "https://localhost:8080/"
        },
        "id": "rQnozOjEOYKc",
        "outputId": "0ca7e94b-0e61-4775-cd86-deebaefee587"
      },
      "execution_count": null,
      "outputs": [
        {
          "output_type": "stream",
          "name": "stdout",
          "text": [
            "This is else 10\n"
          ]
        }
      ]
    },
    {
      "cell_type": "markdown",
      "source": [
        "#### Задача \"Второй максимум\""
      ],
      "metadata": {
        "id": "C1A9397M_UQe"
      }
    },
    {
      "cell_type": "markdown",
      "source": [
        "Последовательность состоит из различных натуральных чисел и завершается числом 0. Определите значение второго по величине элемента в этой последовательности. Гарантируется, что в последовательности есть хотя бы два элемента."
      ],
      "metadata": {
        "id": "l6oewzhV_XRb"
      }
    },
    {
      "cell_type": "code",
      "source": [
        "# ваше решение"
      ],
      "metadata": {
        "id": "JpLpfJQu_ezM"
      },
      "execution_count": null,
      "outputs": []
    },
    {
      "cell_type": "markdown",
      "source": [
        "## Генераторы списков\n",
        "\n",
        "Генераторы список - удобный способ создания списоков в Python. В его основе хоть и лежат циклы, но для использовани генераторов глубокого понимания циклов не нужно."
      ],
      "metadata": {
        "id": "NXR2w9cQ1Ijs"
      }
    },
    {
      "cell_type": "markdown",
      "source": [
        "Вывести список всех кубов ряда от 0 до 6."
      ],
      "metadata": {
        "id": "CTKHnzKc1KCU"
      }
    },
    {
      "cell_type": "code",
      "source": [
        "example = [0, 1, 2, 3, 4, 5, 6]\n",
        "\n",
        "for i in range(len(example)):\n",
        "    example[i] = example[i]**3\n",
        "\n",
        "example"
      ],
      "metadata": {
        "colab": {
          "base_uri": "https://localhost:8080/"
        },
        "id": "tAyG-Y-vO0P7",
        "outputId": "7ff9810e-0a71-4c83-eb27-988042058d23"
      },
      "execution_count": null,
      "outputs": [
        {
          "output_type": "execute_result",
          "data": {
            "text/plain": [
              "[0, 1, 8, 27, 64, 125, 216]"
            ]
          },
          "metadata": {},
          "execution_count": 27
        }
      ]
    },
    {
      "cell_type": "code",
      "source": [
        "example = [0, 1, 2, 3, 4, 5, 6]\n",
        "\n",
        "example = [i**3 for i in example]\n",
        "\n",
        "print(*example, '- кубы')"
      ],
      "metadata": {
        "id": "Kryb7CLj1MAh",
        "colab": {
          "base_uri": "https://localhost:8080/"
        },
        "outputId": "803ecebc-9ecc-4229-c754-78f3f7d1cbbe"
      },
      "execution_count": null,
      "outputs": [
        {
          "output_type": "stream",
          "name": "stdout",
          "text": [
            "0 1 8 27 64 125 216 - кубы\n"
          ]
        }
      ]
    },
    {
      "cell_type": "markdown",
      "source": [
        "Вывести список из i элементов равных i в ряду четных цифр от 1 до 7"
      ],
      "metadata": {
        "id": "csvXZyOx1Pvi"
      }
    },
    {
      "cell_type": "code",
      "source": [
        "ex = [1, 2, 3, 4, 5, 6, 7]\n",
        "\n",
        "for i in ex:\n",
        "    if i % 2 == 0:\n",
        "        i = i**3\n",
        "        print(i)"
      ],
      "metadata": {
        "id": "9fxqCqe7Pcsq",
        "colab": {
          "base_uri": "https://localhost:8080/"
        },
        "outputId": "a5677a49-4822-4f8f-bc82-a3920a014fbe"
      },
      "execution_count": null,
      "outputs": [
        {
          "output_type": "stream",
          "name": "stdout",
          "text": [
            "8\n",
            "64\n",
            "216\n"
          ]
        }
      ]
    },
    {
      "cell_type": "code",
      "source": [
        "ex = [1, 2, 3, 4, 5, 6, 7]\n",
        "arr = [i**3 for i in ex if i % 2 == 0]\n",
        "print(arr)\n",
        "print(len(arr))"
      ],
      "metadata": {
        "id": "5SlsZYe31O_k",
        "colab": {
          "base_uri": "https://localhost:8080/"
        },
        "outputId": "1fe610b8-166c-424f-a0b1-18a9c974c1b8"
      },
      "execution_count": null,
      "outputs": [
        {
          "output_type": "stream",
          "name": "stdout",
          "text": [
            "[8, 64, 216]\n",
            "3\n"
          ]
        }
      ]
    },
    {
      "cell_type": "code",
      "source": [
        "s = '9' # str\n",
        "\n",
        "int(s) # int"
      ],
      "metadata": {
        "id": "yJGrqqMKylZU"
      },
      "execution_count": null,
      "outputs": []
    },
    {
      "cell_type": "code",
      "source": [
        "#\n",
        "s = 'kdjfl9hs18hs0hs6'\n",
        "# ASCII\n",
        "# result = [9, 1, 8, 0, 6] -> int\n",
        "result = []\n",
        "for i in s:\n",
        "    if '0' <= i <= '9':\n",
        "        result.append(int(i))\n",
        "\n",
        "result"
      ],
      "metadata": {
        "colab": {
          "base_uri": "https://localhost:8080/"
        },
        "id": "qvVxZRrMxg1I",
        "outputId": "e5045554-6924-4389-9fbb-8c6400922a5f"
      },
      "execution_count": null,
      "outputs": [
        {
          "output_type": "execute_result",
          "data": {
            "text/plain": [
              "[9, 1, 8, 0, 6]"
            ]
          },
          "metadata": {},
          "execution_count": 3
        }
      ]
    },
    {
      "cell_type": "code",
      "source": [
        "s = 'kdjfl9hs18hs0hs6'\n",
        "\n",
        "result = [int(i) for i in s if '0' <= i <= '9']\n",
        "\n",
        "result"
      ],
      "metadata": {
        "colab": {
          "base_uri": "https://localhost:8080/"
        },
        "id": "-ILqtEO6y9bI",
        "outputId": "95c7aee0-8009-4d84-f2fb-b217f25fef39"
      },
      "execution_count": null,
      "outputs": [
        {
          "output_type": "execute_result",
          "data": {
            "text/plain": [
              "[9, 1, 8, 0, 6]"
            ]
          },
          "metadata": {},
          "execution_count": 4
        }
      ]
    }
  ]
}