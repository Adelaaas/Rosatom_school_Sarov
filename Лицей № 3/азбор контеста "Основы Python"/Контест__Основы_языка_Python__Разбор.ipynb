{
  "nbformat": 4,
  "nbformat_minor": 0,
  "metadata": {
    "colab": {
      "provenance": []
    },
    "kernelspec": {
      "name": "python3",
      "display_name": "Python 3"
    },
    "language_info": {
      "name": "python"
    }
  },
  "cells": [
    {
      "cell_type": "markdown",
      "source": [
        "# D. Неотрицательные числа"
      ],
      "metadata": {
        "id": "w00m3ugDiCke"
      }
    },
    {
      "cell_type": "markdown",
      "source": [
        "На вход программы подаётся некоторое целое число x. В случае, если x - неотрицательное число выведет \"YES\", в противном случае выведет \"NO\".\n",
        "\n",
        "Во всех задачах считывайте входные данные через input() и выводите ответ через print()."
      ],
      "metadata": {
        "id": "bM357jEeiBjm"
      }
    },
    {
      "cell_type": "markdown",
      "source": [
        "**Пояснение к решению**\n",
        "\n",
        "Функция `input()` всегда возращается тип `str`, даже если вы ввели число с клавиатуры. Поэтому необходимо делать преобразование типа данных из `str` в нужный."
      ],
      "metadata": {
        "id": "Fog6aj78bO1g"
      }
    },
    {
      "cell_type": "code",
      "execution_count": null,
      "metadata": {
        "colab": {
          "base_uri": "https://localhost:8080/"
        },
        "id": "wsDy0BjOh-cK",
        "outputId": "40f71f69-ce9a-446b-d2f9-1e433a1344bf"
      },
      "outputs": [
        {
          "output_type": "stream",
          "name": "stdout",
          "text": [
            "3\n",
            "YES\n"
          ]
        }
      ],
      "source": [
        "x = int(input())\n",
        "\n",
        "if x >= 0:\n",
        "    print(\"YES\")\n",
        "else:\n",
        "    print(\"NO\")"
      ]
    },
    {
      "cell_type": "markdown",
      "source": [
        "# E. Списки"
      ],
      "metadata": {
        "id": "jGQfoepGiUy9"
      }
    },
    {
      "cell_type": "markdown",
      "source": [
        "На вход подаются некоторые целые числа в виде списка, вам необходимо используя срезы вывести с 3 по 7 элементы включительно.\n",
        "\n",
        "Во всех задачах считывайте входные данные через input() и выводите ответ через print().\n",
        "\n",
        "P.S. гарантируется, что в массиве не менее 10 чисел."
      ],
      "metadata": {
        "id": "hbnD4Ym1iXe8"
      }
    },
    {
      "cell_type": "code",
      "source": [
        "s = input()\n",
        "\n",
        "s = list(map(int, s.split()))\n",
        "print(s[3:8])"
      ],
      "metadata": {
        "id": "VpXznyDwiZPj"
      },
      "execution_count": null,
      "outputs": []
    },
    {
      "cell_type": "markdown",
      "source": [
        "**Пояснение к решению**\n",
        "\n",
        "Функция `split()` делать строку по некоторому разделителю. По умолчанию разделитель - это пробел. Функция всегда возвращает список из разделенных элементов."
      ],
      "metadata": {
        "id": "2VelB3Djij5C"
      }
    },
    {
      "cell_type": "code",
      "source": [
        "s = 'Hello World!'\n",
        "s.split()"
      ],
      "metadata": {
        "colab": {
          "base_uri": "https://localhost:8080/"
        },
        "id": "BgG9mPbKb04n",
        "outputId": "f4ece994-4279-407e-e37a-861e9e00fc8f"
      },
      "execution_count": 1,
      "outputs": [
        {
          "output_type": "execute_result",
          "data": {
            "text/plain": [
              "['Hello', 'World!']"
            ]
          },
          "metadata": {},
          "execution_count": 1
        }
      ]
    },
    {
      "cell_type": "markdown",
      "source": [
        "\n",
        "*Встроенная в Python функция `map()` используется для применения функции к каждому элементу итерируемого объекта (например, списка или словаря) и возврата нового итератора для получения результатов.*\n",
        "\n",
        "*Функция `map()` возвращает объект `map` (итератор), который мы можем использовать в других частях нашей программы. Также мы можем передать объект map в функцию `list()` или другой тип последовательности для создания итерируемого объекта.*\n",
        "\n",
        "**Синтаксис `map()`:**\n",
        "\n",
        "```\n",
        "map(function, iterable, [iterable 2, iterable 3, ...])\n",
        "```"
      ],
      "metadata": {
        "id": "vBTkG6X3b1Cq"
      }
    },
    {
      "cell_type": "markdown",
      "source": [
        "# F. Множества"
      ],
      "metadata": {
        "id": "59fiN89Ti7nu"
      }
    },
    {
      "cell_type": "markdown",
      "source": [
        "Вам даны два множества, которые вводятся с клавиатуры и состоят из целых чисел.\n",
        "\n",
        "Найдите пересечение этих множеств.\n",
        "\n",
        "P.S.: если пересечение множеств даёт пустое множество, то выведет -1.\n",
        "\n",
        "Во всех задачах считывайте входные данные через input() и выводите ответ через print()."
      ],
      "metadata": {
        "id": "N9Ds3n5ei8kc"
      }
    },
    {
      "cell_type": "code",
      "source": [
        "A = set(map(int, input().split()))\n",
        "B = set(map(int, input().split()))\n",
        "\n",
        "intersection = A & B\n",
        "\n",
        "if len(intersection) == 0:\n",
        "    print(-1)\n",
        "else:\n",
        "    print(intersection)"
      ],
      "metadata": {
        "colab": {
          "base_uri": "https://localhost:8080/"
        },
        "id": "c8xn8Zk2iv6N",
        "outputId": "bb992226-58b8-4e5c-a3a2-a375246cebbc"
      },
      "execution_count": null,
      "outputs": [
        {
          "output_type": "stream",
          "name": "stdout",
          "text": [
            "1 2 3 4\n",
            "1 2 3 4\n",
            "{1, 2, 3, 4}\n"
          ]
        }
      ]
    },
    {
      "cell_type": "markdown",
      "source": [
        "**Самые простые операции над множествами:**\n",
        "\n",
        "- **& (И)** - пересечение, результатом является множество, содержащее элементы, которые встречаются в обоих исходных множествах.\n",
        "- **| (ИЛИ)** - объединение, результатом является множество, содержащее элементы, которые встречаются хотя бы в одном из исходных множеств.\n",
        "- Результатом разности **-** является множество, содержащее элементы, которые есть в \"уменьшаемом\", но их нет в \"вычитаемом\". То есть уникальные для \"уменьшаемого\". Результат завесит от порядка операндов"
      ],
      "metadata": {
        "id": "8OaHyXO6j6aA"
      }
    },
    {
      "cell_type": "markdown",
      "source": [
        "![image.png](data:image/png;base64,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)"
      ],
      "metadata": {
        "id": "oG-rNiMxj3kk"
      }
    },
    {
      "cell_type": "markdown",
      "source": [
        "# G. Длина отрезка"
      ],
      "metadata": {
        "id": "BBIwxRPflT2H"
      }
    },
    {
      "cell_type": "markdown",
      "source": [
        "Даны четыре действительных числа: $x_1, y_1, x_2, y_2$. Напишите функцию `distance(x1, y1, x2, y2)`, вычисляющая расстояние между точкой $(x_1,y_1)$ и $(x_2,y_2)$. Считайте четыре действительных числа и выведите результат работы этой функции."
      ],
      "metadata": {
        "id": "CygVT8xklVhG"
      }
    },
    {
      "cell_type": "code",
      "source": [
        "def distance(x1, y1, x2, y2):\n",
        "    return ((x1 - x2)**2 + (y1 - y2)**2)**0.5\n",
        "\n",
        "x1 = float(input())\n",
        "y1 = float(input())\n",
        "x2 = float(input())\n",
        "y2 = float(input())\n",
        "\n",
        "print(distance(x1, y1, x2, y2))"
      ],
      "metadata": {
        "id": "vmLnUyMulgwh"
      },
      "execution_count": null,
      "outputs": []
    },
    {
      "cell_type": "markdown",
      "source": [
        "# H. Поиск подстроки"
      ],
      "metadata": {
        "id": "y4QobLVhpPFV"
      }
    },
    {
      "cell_type": "markdown",
      "source": [
        "Вам дана некоторая строка. Выведите все, что после двоеточия.\n",
        "\n",
        "**Например:**\n",
        "\n",
        "**Input:**\n",
        "\n",
        "\"Математические бои состоят из: выезда, экспресса\"\n",
        "\n",
        "**Output:**\n",
        "\n",
        "\" выезда, экспресса\""
      ],
      "metadata": {
        "id": "_ihO_129pQCl"
      }
    },
    {
      "cell_type": "code",
      "source": [
        "s = input()\n",
        "\n",
        "print(':' + s.split(':')[-1])"
      ],
      "metadata": {
        "colab": {
          "base_uri": "https://localhost:8080/"
        },
        "id": "z28BX2WBpWxm",
        "outputId": "3b8e3625-9872-4746-f0ac-a7d909a0497f"
      },
      "execution_count": null,
      "outputs": [
        {
          "output_type": "stream",
          "name": "stdout",
          "text": [
            "Математические бои состоят из: выезда, экспресса\n",
            ": выезда, экспресса\n"
          ]
        }
      ]
    },
    {
      "cell_type": "code",
      "source": [
        "s = input()\n",
        "\n",
        "s.find(':')"
      ],
      "metadata": {
        "colab": {
          "base_uri": "https://localhost:8080/"
        },
        "id": "0e0oEVuArYWo",
        "outputId": "c8aed670-32b1-4b7f-97e0-bbec7d311429"
      },
      "execution_count": null,
      "outputs": [
        {
          "name": "stdout",
          "output_type": "stream",
          "text": [
            "Математические бои состоят из: выезда, экспресса\n"
          ]
        },
        {
          "output_type": "execute_result",
          "data": {
            "text/plain": [
              "29"
            ]
          },
          "metadata": {},
          "execution_count": 6
        }
      ]
    },
    {
      "cell_type": "code",
      "source": [
        "s[29:]"
      ],
      "metadata": {
        "colab": {
          "base_uri": "https://localhost:8080/",
          "height": 36
        },
        "id": "uSjIIfOxreZe",
        "outputId": "b6c63f66-7445-47b3-85f7-f597a236a0a4"
      },
      "execution_count": null,
      "outputs": [
        {
          "output_type": "execute_result",
          "data": {
            "text/plain": [
              "': выезда, экспресса'"
            ],
            "application/vnd.google.colaboratory.intrinsic+json": {
              "type": "string"
            }
          },
          "metadata": {},
          "execution_count": 7
        }
      ]
    },
    {
      "cell_type": "markdown",
      "source": [
        "Метод `find` находит в данной строке (к которой применяется метод) данную подстроку (которая передается в качестве параметра). Функция возвращает индекс первого вхождения искомой подстроки. Если же подстрока не найдена, то метод возвращает значение -1.\n",
        "\n",
        "Аналогично, метод `rfind` возвращает индекс последнего вхождения данной строки (\"поиск справа\").\n",
        "\n",
        "Если вызвать метод `find` с тремя параметрами `S.find(T, a, b)`, то поиск будет осуществляться в срезе `S[a:b]`. Если указать только два параметра `S.find(T, a)`, то поиск будет осуществляться в срезе `S[a:]`, то есть начиная с символа с индексом a и до конца строки. Метод `S.find(T, a, b)` возращает индекс в строке `S`, а не индекс относительно среза."
      ],
      "metadata": {
        "id": "lpLYYMi1qVSa"
      }
    },
    {
      "cell_type": "markdown",
      "source": [
        "# I. Второе вхождение"
      ],
      "metadata": {
        "id": "2dhQ1ldxsRqL"
      }
    },
    {
      "cell_type": "markdown",
      "source": [
        "Дана строка. Найдите в этой строке второе вхождение буквы f, и выведите индекс этого вхождения. Если буква f в данной строке встречается только один раз, выведите число -1, а если не встречается ни разу, выведите число -2."
      ],
      "metadata": {
        "id": "e0u2EmlZsU_6"
      }
    },
    {
      "cell_type": "code",
      "source": [
        "s = input()\n",
        "\n",
        "if s.count('f') == 1:\n",
        "    print(-1)\n",
        "elif s.count('f') < 1:\n",
        "    print(-2)\n",
        "else:\n",
        "    print(s.find('f', s.find('f') + 1))"
      ],
      "metadata": {
        "id": "1pxrmtpjsWbD"
      },
      "execution_count": null,
      "outputs": []
    },
    {
      "cell_type": "markdown",
      "source": [
        "```\n",
        "str.count(sub[, start[, end]])\n",
        "```\n",
        "\n",
        "Метод `str.count()` возвращает количество вхождений подстроки sub в строку str в диапазоне индексов `[start, end]`, если они переданы в метод."
      ],
      "metadata": {
        "id": "SvLAkBs4sqwa"
      }
    },
    {
      "cell_type": "code",
      "source": [
        "s = 'Hello world!'\n",
        "\n",
        "s.count('l')"
      ],
      "metadata": {
        "colab": {
          "base_uri": "https://localhost:8080/"
        },
        "id": "jCs_TLQMb-4r",
        "outputId": "fee8f34e-af29-459f-be41-de4b454efc3c"
      },
      "execution_count": 2,
      "outputs": [
        {
          "output_type": "execute_result",
          "data": {
            "text/plain": [
              "3"
            ]
          },
          "metadata": {},
          "execution_count": 2
        }
      ]
    },
    {
      "cell_type": "markdown",
      "source": [
        "# J. Подсчёт символов"
      ],
      "metadata": {
        "id": "ofHx2eVTt3A4"
      }
    },
    {
      "cell_type": "markdown",
      "source": [
        "Вам дана некоторая строка. Посчитайте количество уникальных символов в строке.\n",
        "\n",
        "Например:\n",
        "\n",
        "Input:\n",
        "\n",
        "\"Hello world!\"\n",
        "\n",
        "Output:\n",
        "\n",
        "9"
      ],
      "metadata": {
        "id": "weHGH2HHt3rK"
      }
    },
    {
      "cell_type": "code",
      "source": [
        "s = input()\n",
        "\n",
        "print(len(set(s)))"
      ],
      "metadata": {
        "id": "nHDuuOOet5cJ"
      },
      "execution_count": null,
      "outputs": []
    },
    {
      "cell_type": "markdown",
      "source": [
        "Множество в Python - это коллекция неупорядоченных элементов. Каждый элемент множества должен быть уникальным, неизменяемым, и множества не хранят дублирующиеся элементы.\n",
        "\n",
        "**Т. е. множество хранит только НЕПОВТОРЯЮЩИЕСЯ элементы, все дубликаты удаляет.**"
      ],
      "metadata": {
        "id": "z_DtNLbkcVma"
      }
    },
    {
      "cell_type": "markdown",
      "source": [
        "# K. Количество четных элементов последовательности"
      ],
      "metadata": {
        "id": "-pob8VmyuEjg"
      }
    },
    {
      "cell_type": "markdown",
      "source": [
        "Определите количество четных элементов в последовательности, завершающейся числом 0."
      ],
      "metadata": {
        "id": "3FvzCjHtuFP-"
      }
    },
    {
      "cell_type": "markdown",
      "source": [
        "Пример:\n",
        "\n",
        "```\n",
        "4\n",
        "5\n",
        "1\n",
        "7\n",
        "3\n",
        "8\n",
        "1\n",
        "0\n",
        "```"
      ],
      "metadata": {
        "id": "ITZshmxmcevi"
      }
    },
    {
      "cell_type": "code",
      "source": [
        "num_even = -1\n",
        "element = -1\n",
        "\n",
        "while element != 0:\n",
        "    element = int(input())\n",
        "    if element % 2 == 0:\n",
        "        num_even += 1\n",
        "print(num_even)"
      ],
      "metadata": {
        "id": "jp-Gm6W9uKXI"
      },
      "execution_count": null,
      "outputs": []
    },
    {
      "cell_type": "markdown",
      "source": [
        "# L. Трёхзначные числа"
      ],
      "metadata": {
        "id": "Le5NUw7-PskS"
      }
    },
    {
      "cell_type": "markdown",
      "source": [
        "Автомат получает на вход трёхзначное число. По этому числу строится новое число по следующим правилам.  \n",
        "\n",
        "1. Складываются первая и вторая, а также вторая и третья цифры исходного числа.\n",
        "\n",
        "2. Полученные два числа записываются друг за другом в порядке возрастания (без разделителей).\n",
        "\n",
        "*Пример. Исходное число: 348. Суммы: 3+4 = 7; 4+8 = 12. Результат: 712.*\n",
        "\n",
        "Укажите наименьшее число, в результате обработки которого автомат выдаст число 1115."
      ],
      "metadata": {
        "id": "xtqDK2o9P_QO"
      }
    },
    {
      "cell_type": "code",
      "source": [
        "i = 462\n",
        "s = str(i)\n",
        "print(s[0]) # первая цифра числа\n",
        "print(s[1]) # вторая цифра числа\n",
        "print(s[-1]) # последняя (третья) цифра числа, можно так еще написать s[2]"
      ],
      "metadata": {
        "colab": {
          "base_uri": "https://localhost:8080/"
        },
        "id": "qs7_eToAdlOV",
        "outputId": "2a14f84d-53db-41e7-f9f3-645613486d3d"
      },
      "execution_count": 4,
      "outputs": [
        {
          "output_type": "stream",
          "name": "stdout",
          "text": [
            "4\n",
            "6\n",
            "2\n"
          ]
        }
      ]
    },
    {
      "cell_type": "code",
      "source": [
        "# сколько цифр в числе\n",
        "len(s)"
      ],
      "metadata": {
        "colab": {
          "base_uri": "https://localhost:8080/"
        },
        "id": "dZTdCyrld1TH",
        "outputId": "49c94e14-ce40-4d60-e705-e4eba8de8f75"
      },
      "execution_count": 5,
      "outputs": [
        {
          "output_type": "execute_result",
          "data": {
            "text/plain": [
              "3"
            ]
          },
          "metadata": {},
          "execution_count": 5
        }
      ]
    },
    {
      "cell_type": "code",
      "source": [
        "i = 462\n",
        "print(i%10)\n",
        "print(i//10%10)\n",
        "print(i//100)"
      ],
      "metadata": {
        "colab": {
          "base_uri": "https://localhost:8080/"
        },
        "id": "PsgGLkXld4gz",
        "outputId": "c2af7cc8-92b2-4990-c675-e1215deb8557"
      },
      "execution_count": 8,
      "outputs": [
        {
          "output_type": "stream",
          "name": "stdout",
          "text": [
            "2\n",
            "6\n",
            "4\n"
          ]
        }
      ]
    },
    {
      "cell_type": "code",
      "source": [
        "for i in range(100, 1000):\n",
        "    # конвертируем число в строку\n",
        "    # теперь со строкой можно работать как со списком\n",
        "    s = str(i)\n",
        "\n",
        "    k1 = int(s[0]) + int(s[1]) # Складываются первая и вторая,\n",
        "    k2 = int(s[1]) + int(s[2]) # а также вторая и третья цифры исходного числа\n",
        "\n",
        "    first = str(min(k1, k2))\n",
        "    second = str((max(k1, k2)))\n",
        "\n",
        "    # Полученные два числа записываются друг за другом в порядке возрастания (без разделителей)\n",
        "    s1 = first + second\n",
        "\n",
        "    # Укажите наименьшее число, в результате обработки которого\n",
        "    # автомат выдаст число 1115\n",
        "    if s1 == '1115':\n",
        "        print(i)\n",
        "        # break прерывает цикл как только встретили такое число,\n",
        "        # так как нам нужно найти минимальное, значит первое число, которое мы встретили\n",
        "        # удовляетворяет условию\n",
        "        break"
      ],
      "metadata": {
        "colab": {
          "base_uri": "https://localhost:8080/"
        },
        "id": "dQSRyQgEPtbp",
        "outputId": "b9b523cd-6d4a-42ae-ed21-ad5ac50138f8"
      },
      "execution_count": null,
      "outputs": [
        {
          "output_type": "stream",
          "name": "stdout",
          "text": [
            "296\n"
          ]
        }
      ]
    },
    {
      "cell_type": "markdown",
      "source": [
        "*Можно интерпретировать число как строку, т.е. '563' - строка, состоящая 3-х элементов.*\n",
        "*Тогда цифры можно легко получить, обращаясь к элементам строки.*"
      ],
      "metadata": {
        "id": "iE5awkHHWVKU"
      }
    }
  ]
}